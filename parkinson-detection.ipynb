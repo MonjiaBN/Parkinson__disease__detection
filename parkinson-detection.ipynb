{
 "cells": [
  {
   "cell_type": "markdown",
   "id": "cb9a38ed",
   "metadata": {
    "papermill": {
     "duration": 0.054554,
     "end_time": "2021-10-06T23:16:28.305299",
     "exception": false,
     "start_time": "2021-10-06T23:16:28.250745",
     "status": "completed"
    },
    "tags": []
   },
   "source": [
    "# Define the problem :\n",
    "\n",
    "**It is a classification problem : classify the patients into (Patient has Parkinson / Patient does not have Parkinson) using the attributes from their voice recordings**"
   ]
  },
  {
   "cell_type": "markdown",
   "id": "832f56e4",
   "metadata": {
    "papermill": {
     "duration": 0.047327,
     "end_time": "2021-10-06T23:16:28.404698",
     "exception": false,
     "start_time": "2021-10-06T23:16:28.357371",
     "status": "completed"
    },
    "tags": []
   },
   "source": [
    "# Import necessary packages"
   ]
  },
  {
   "cell_type": "code",
   "execution_count": 1,
   "id": "df083c67",
   "metadata": {
    "_cell_guid": "b1076dfc-b9ad-4769-8c92-a6c4dae69d19",
    "_uuid": "8f2839f25d086af736a60e9eeb907d3b93b6e0e5",
    "execution": {
     "iopub.execute_input": "2021-10-06T23:16:28.513275Z",
     "iopub.status.busy": "2021-10-06T23:16:28.510913Z",
     "iopub.status.idle": "2021-10-06T23:16:29.940335Z",
     "shell.execute_reply": "2021-10-06T23:16:29.941662Z",
     "shell.execute_reply.started": "2021-10-06T23:14:58.223455Z"
    },
    "papermill": {
     "duration": 1.487208,
     "end_time": "2021-10-06T23:16:29.942240",
     "exception": false,
     "start_time": "2021-10-06T23:16:28.455032",
     "status": "completed"
    },
    "tags": []
   },
   "outputs": [
    {
     "name": "stdout",
     "output_type": "stream",
     "text": [
      "all packages are imported\n"
     ]
    }
   ],
   "source": [
    "# ********** import packages ****************\n",
    "import numpy as np\n",
    "import pandas as pd\n",
    "from xgboost import XGBClassifier\n",
    "from sklearn.neighbors import KNeighborsClassifier\n",
    "from sklearn.svm import SVC\n",
    "import matplotlib.pyplot as plt\n",
    "#import os,sys\n",
    "from sklearn.preprocessing import MinMaxScaler #to scale features\n",
    "from sklearn.model_selection import train_test_split\n",
    "from sklearn.metrics import accuracy_score, confusion_matrix,precision_score,f1_score,classification_report\n",
    "import seaborn as sns\n",
    "sns.set(color_codes=True) # adds a background to the graphs\n",
    "import warnings\n",
    "warnings.filterwarnings('ignore')\n",
    "%matplotlib inline\n",
    "print('all packages are imported')\n",
    "\n"
   ]
  },
  {
   "cell_type": "markdown",
   "id": "f32a0e01",
   "metadata": {
    "papermill": {
     "duration": 0.057118,
     "end_time": "2021-10-06T23:16:30.058231",
     "exception": false,
     "start_time": "2021-10-06T23:16:30.001113",
     "status": "completed"
    },
    "tags": []
   },
   "source": [
    "# **Load and prepare data**"
   ]
  },
  {
   "cell_type": "code",
   "execution_count": 2,
   "id": "4f67913b",
   "metadata": {
    "execution": {
     "iopub.execute_input": "2021-10-06T23:16:30.171150Z",
     "iopub.status.busy": "2021-10-06T23:16:30.170291Z",
     "iopub.status.idle": "2021-10-06T23:16:30.253782Z",
     "shell.execute_reply": "2021-10-06T23:16:30.254364Z",
     "shell.execute_reply.started": "2021-10-06T23:14:59.389194Z"
    },
    "papermill": {
     "duration": 0.142303,
     "end_time": "2021-10-06T23:16:30.254563",
     "exception": false,
     "start_time": "2021-10-06T23:16:30.112260",
     "status": "completed"
    },
    "tags": []
   },
   "outputs": [
    {
     "data": {
      "text/html": [
       "<div>\n",
       "<style scoped>\n",
       "    .dataframe tbody tr th:only-of-type {\n",
       "        vertical-align: middle;\n",
       "    }\n",
       "\n",
       "    .dataframe tbody tr th {\n",
       "        vertical-align: top;\n",
       "    }\n",
       "\n",
       "    .dataframe thead th {\n",
       "        text-align: right;\n",
       "    }\n",
       "</style>\n",
       "<table border=\"1\" class=\"dataframe\">\n",
       "  <thead>\n",
       "    <tr style=\"text-align: right;\">\n",
       "      <th></th>\n",
       "      <th>name</th>\n",
       "      <th>MDVP:Fo(Hz)</th>\n",
       "      <th>MDVP:Fhi(Hz)</th>\n",
       "      <th>MDVP:Flo(Hz)</th>\n",
       "      <th>MDVP:Jitter(%)</th>\n",
       "      <th>MDVP:Jitter(Abs)</th>\n",
       "      <th>MDVP:RAP</th>\n",
       "      <th>MDVP:PPQ</th>\n",
       "      <th>Jitter:DDP</th>\n",
       "      <th>MDVP:Shimmer</th>\n",
       "      <th>...</th>\n",
       "      <th>Shimmer:DDA</th>\n",
       "      <th>NHR</th>\n",
       "      <th>HNR</th>\n",
       "      <th>status</th>\n",
       "      <th>RPDE</th>\n",
       "      <th>DFA</th>\n",
       "      <th>spread1</th>\n",
       "      <th>spread2</th>\n",
       "      <th>D2</th>\n",
       "      <th>PPE</th>\n",
       "    </tr>\n",
       "  </thead>\n",
       "  <tbody>\n",
       "    <tr>\n",
       "      <th>0</th>\n",
       "      <td>phon_R01_S01_1</td>\n",
       "      <td>119.992</td>\n",
       "      <td>157.302</td>\n",
       "      <td>74.997</td>\n",
       "      <td>0.00784</td>\n",
       "      <td>0.00007</td>\n",
       "      <td>0.00370</td>\n",
       "      <td>0.00554</td>\n",
       "      <td>0.01109</td>\n",
       "      <td>0.04374</td>\n",
       "      <td>...</td>\n",
       "      <td>0.06545</td>\n",
       "      <td>0.02211</td>\n",
       "      <td>21.033</td>\n",
       "      <td>1</td>\n",
       "      <td>0.414783</td>\n",
       "      <td>0.815285</td>\n",
       "      <td>-4.813031</td>\n",
       "      <td>0.266482</td>\n",
       "      <td>2.301442</td>\n",
       "      <td>0.284654</td>\n",
       "    </tr>\n",
       "    <tr>\n",
       "      <th>1</th>\n",
       "      <td>phon_R01_S01_2</td>\n",
       "      <td>122.400</td>\n",
       "      <td>148.650</td>\n",
       "      <td>113.819</td>\n",
       "      <td>0.00968</td>\n",
       "      <td>0.00008</td>\n",
       "      <td>0.00465</td>\n",
       "      <td>0.00696</td>\n",
       "      <td>0.01394</td>\n",
       "      <td>0.06134</td>\n",
       "      <td>...</td>\n",
       "      <td>0.09403</td>\n",
       "      <td>0.01929</td>\n",
       "      <td>19.085</td>\n",
       "      <td>1</td>\n",
       "      <td>0.458359</td>\n",
       "      <td>0.819521</td>\n",
       "      <td>-4.075192</td>\n",
       "      <td>0.335590</td>\n",
       "      <td>2.486855</td>\n",
       "      <td>0.368674</td>\n",
       "    </tr>\n",
       "    <tr>\n",
       "      <th>2</th>\n",
       "      <td>phon_R01_S01_3</td>\n",
       "      <td>116.682</td>\n",
       "      <td>131.111</td>\n",
       "      <td>111.555</td>\n",
       "      <td>0.01050</td>\n",
       "      <td>0.00009</td>\n",
       "      <td>0.00544</td>\n",
       "      <td>0.00781</td>\n",
       "      <td>0.01633</td>\n",
       "      <td>0.05233</td>\n",
       "      <td>...</td>\n",
       "      <td>0.08270</td>\n",
       "      <td>0.01309</td>\n",
       "      <td>20.651</td>\n",
       "      <td>1</td>\n",
       "      <td>0.429895</td>\n",
       "      <td>0.825288</td>\n",
       "      <td>-4.443179</td>\n",
       "      <td>0.311173</td>\n",
       "      <td>2.342259</td>\n",
       "      <td>0.332634</td>\n",
       "    </tr>\n",
       "    <tr>\n",
       "      <th>3</th>\n",
       "      <td>phon_R01_S01_4</td>\n",
       "      <td>116.676</td>\n",
       "      <td>137.871</td>\n",
       "      <td>111.366</td>\n",
       "      <td>0.00997</td>\n",
       "      <td>0.00009</td>\n",
       "      <td>0.00502</td>\n",
       "      <td>0.00698</td>\n",
       "      <td>0.01505</td>\n",
       "      <td>0.05492</td>\n",
       "      <td>...</td>\n",
       "      <td>0.08771</td>\n",
       "      <td>0.01353</td>\n",
       "      <td>20.644</td>\n",
       "      <td>1</td>\n",
       "      <td>0.434969</td>\n",
       "      <td>0.819235</td>\n",
       "      <td>-4.117501</td>\n",
       "      <td>0.334147</td>\n",
       "      <td>2.405554</td>\n",
       "      <td>0.368975</td>\n",
       "    </tr>\n",
       "    <tr>\n",
       "      <th>4</th>\n",
       "      <td>phon_R01_S01_5</td>\n",
       "      <td>116.014</td>\n",
       "      <td>141.781</td>\n",
       "      <td>110.655</td>\n",
       "      <td>0.01284</td>\n",
       "      <td>0.00011</td>\n",
       "      <td>0.00655</td>\n",
       "      <td>0.00908</td>\n",
       "      <td>0.01966</td>\n",
       "      <td>0.06425</td>\n",
       "      <td>...</td>\n",
       "      <td>0.10470</td>\n",
       "      <td>0.01767</td>\n",
       "      <td>19.649</td>\n",
       "      <td>1</td>\n",
       "      <td>0.417356</td>\n",
       "      <td>0.823484</td>\n",
       "      <td>-3.747787</td>\n",
       "      <td>0.234513</td>\n",
       "      <td>2.332180</td>\n",
       "      <td>0.410335</td>\n",
       "    </tr>\n",
       "    <tr>\n",
       "      <th>...</th>\n",
       "      <td>...</td>\n",
       "      <td>...</td>\n",
       "      <td>...</td>\n",
       "      <td>...</td>\n",
       "      <td>...</td>\n",
       "      <td>...</td>\n",
       "      <td>...</td>\n",
       "      <td>...</td>\n",
       "      <td>...</td>\n",
       "      <td>...</td>\n",
       "      <td>...</td>\n",
       "      <td>...</td>\n",
       "      <td>...</td>\n",
       "      <td>...</td>\n",
       "      <td>...</td>\n",
       "      <td>...</td>\n",
       "      <td>...</td>\n",
       "      <td>...</td>\n",
       "      <td>...</td>\n",
       "      <td>...</td>\n",
       "      <td>...</td>\n",
       "    </tr>\n",
       "    <tr>\n",
       "      <th>190</th>\n",
       "      <td>phon_R01_S50_2</td>\n",
       "      <td>174.188</td>\n",
       "      <td>230.978</td>\n",
       "      <td>94.261</td>\n",
       "      <td>0.00459</td>\n",
       "      <td>0.00003</td>\n",
       "      <td>0.00263</td>\n",
       "      <td>0.00259</td>\n",
       "      <td>0.00790</td>\n",
       "      <td>0.04087</td>\n",
       "      <td>...</td>\n",
       "      <td>0.07008</td>\n",
       "      <td>0.02764</td>\n",
       "      <td>19.517</td>\n",
       "      <td>0</td>\n",
       "      <td>0.448439</td>\n",
       "      <td>0.657899</td>\n",
       "      <td>-6.538586</td>\n",
       "      <td>0.121952</td>\n",
       "      <td>2.657476</td>\n",
       "      <td>0.133050</td>\n",
       "    </tr>\n",
       "    <tr>\n",
       "      <th>191</th>\n",
       "      <td>phon_R01_S50_3</td>\n",
       "      <td>209.516</td>\n",
       "      <td>253.017</td>\n",
       "      <td>89.488</td>\n",
       "      <td>0.00564</td>\n",
       "      <td>0.00003</td>\n",
       "      <td>0.00331</td>\n",
       "      <td>0.00292</td>\n",
       "      <td>0.00994</td>\n",
       "      <td>0.02751</td>\n",
       "      <td>...</td>\n",
       "      <td>0.04812</td>\n",
       "      <td>0.01810</td>\n",
       "      <td>19.147</td>\n",
       "      <td>0</td>\n",
       "      <td>0.431674</td>\n",
       "      <td>0.683244</td>\n",
       "      <td>-6.195325</td>\n",
       "      <td>0.129303</td>\n",
       "      <td>2.784312</td>\n",
       "      <td>0.168895</td>\n",
       "    </tr>\n",
       "    <tr>\n",
       "      <th>192</th>\n",
       "      <td>phon_R01_S50_4</td>\n",
       "      <td>174.688</td>\n",
       "      <td>240.005</td>\n",
       "      <td>74.287</td>\n",
       "      <td>0.01360</td>\n",
       "      <td>0.00008</td>\n",
       "      <td>0.00624</td>\n",
       "      <td>0.00564</td>\n",
       "      <td>0.01873</td>\n",
       "      <td>0.02308</td>\n",
       "      <td>...</td>\n",
       "      <td>0.03804</td>\n",
       "      <td>0.10715</td>\n",
       "      <td>17.883</td>\n",
       "      <td>0</td>\n",
       "      <td>0.407567</td>\n",
       "      <td>0.655683</td>\n",
       "      <td>-6.787197</td>\n",
       "      <td>0.158453</td>\n",
       "      <td>2.679772</td>\n",
       "      <td>0.131728</td>\n",
       "    </tr>\n",
       "    <tr>\n",
       "      <th>193</th>\n",
       "      <td>phon_R01_S50_5</td>\n",
       "      <td>198.764</td>\n",
       "      <td>396.961</td>\n",
       "      <td>74.904</td>\n",
       "      <td>0.00740</td>\n",
       "      <td>0.00004</td>\n",
       "      <td>0.00370</td>\n",
       "      <td>0.00390</td>\n",
       "      <td>0.01109</td>\n",
       "      <td>0.02296</td>\n",
       "      <td>...</td>\n",
       "      <td>0.03794</td>\n",
       "      <td>0.07223</td>\n",
       "      <td>19.020</td>\n",
       "      <td>0</td>\n",
       "      <td>0.451221</td>\n",
       "      <td>0.643956</td>\n",
       "      <td>-6.744577</td>\n",
       "      <td>0.207454</td>\n",
       "      <td>2.138608</td>\n",
       "      <td>0.123306</td>\n",
       "    </tr>\n",
       "    <tr>\n",
       "      <th>194</th>\n",
       "      <td>phon_R01_S50_6</td>\n",
       "      <td>214.289</td>\n",
       "      <td>260.277</td>\n",
       "      <td>77.973</td>\n",
       "      <td>0.00567</td>\n",
       "      <td>0.00003</td>\n",
       "      <td>0.00295</td>\n",
       "      <td>0.00317</td>\n",
       "      <td>0.00885</td>\n",
       "      <td>0.01884</td>\n",
       "      <td>...</td>\n",
       "      <td>0.03078</td>\n",
       "      <td>0.04398</td>\n",
       "      <td>21.209</td>\n",
       "      <td>0</td>\n",
       "      <td>0.462803</td>\n",
       "      <td>0.664357</td>\n",
       "      <td>-5.724056</td>\n",
       "      <td>0.190667</td>\n",
       "      <td>2.555477</td>\n",
       "      <td>0.148569</td>\n",
       "    </tr>\n",
       "  </tbody>\n",
       "</table>\n",
       "<p>195 rows × 24 columns</p>\n",
       "</div>"
      ],
      "text/plain": [
       "               name  MDVP:Fo(Hz)  MDVP:Fhi(Hz)  MDVP:Flo(Hz)  MDVP:Jitter(%)  \\\n",
       "0    phon_R01_S01_1      119.992       157.302        74.997         0.00784   \n",
       "1    phon_R01_S01_2      122.400       148.650       113.819         0.00968   \n",
       "2    phon_R01_S01_3      116.682       131.111       111.555         0.01050   \n",
       "3    phon_R01_S01_4      116.676       137.871       111.366         0.00997   \n",
       "4    phon_R01_S01_5      116.014       141.781       110.655         0.01284   \n",
       "..              ...          ...           ...           ...             ...   \n",
       "190  phon_R01_S50_2      174.188       230.978        94.261         0.00459   \n",
       "191  phon_R01_S50_3      209.516       253.017        89.488         0.00564   \n",
       "192  phon_R01_S50_4      174.688       240.005        74.287         0.01360   \n",
       "193  phon_R01_S50_5      198.764       396.961        74.904         0.00740   \n",
       "194  phon_R01_S50_6      214.289       260.277        77.973         0.00567   \n",
       "\n",
       "     MDVP:Jitter(Abs)  MDVP:RAP  MDVP:PPQ  Jitter:DDP  MDVP:Shimmer  ...  \\\n",
       "0             0.00007   0.00370   0.00554     0.01109       0.04374  ...   \n",
       "1             0.00008   0.00465   0.00696     0.01394       0.06134  ...   \n",
       "2             0.00009   0.00544   0.00781     0.01633       0.05233  ...   \n",
       "3             0.00009   0.00502   0.00698     0.01505       0.05492  ...   \n",
       "4             0.00011   0.00655   0.00908     0.01966       0.06425  ...   \n",
       "..                ...       ...       ...         ...           ...  ...   \n",
       "190           0.00003   0.00263   0.00259     0.00790       0.04087  ...   \n",
       "191           0.00003   0.00331   0.00292     0.00994       0.02751  ...   \n",
       "192           0.00008   0.00624   0.00564     0.01873       0.02308  ...   \n",
       "193           0.00004   0.00370   0.00390     0.01109       0.02296  ...   \n",
       "194           0.00003   0.00295   0.00317     0.00885       0.01884  ...   \n",
       "\n",
       "     Shimmer:DDA      NHR     HNR  status      RPDE       DFA   spread1  \\\n",
       "0        0.06545  0.02211  21.033       1  0.414783  0.815285 -4.813031   \n",
       "1        0.09403  0.01929  19.085       1  0.458359  0.819521 -4.075192   \n",
       "2        0.08270  0.01309  20.651       1  0.429895  0.825288 -4.443179   \n",
       "3        0.08771  0.01353  20.644       1  0.434969  0.819235 -4.117501   \n",
       "4        0.10470  0.01767  19.649       1  0.417356  0.823484 -3.747787   \n",
       "..           ...      ...     ...     ...       ...       ...       ...   \n",
       "190      0.07008  0.02764  19.517       0  0.448439  0.657899 -6.538586   \n",
       "191      0.04812  0.01810  19.147       0  0.431674  0.683244 -6.195325   \n",
       "192      0.03804  0.10715  17.883       0  0.407567  0.655683 -6.787197   \n",
       "193      0.03794  0.07223  19.020       0  0.451221  0.643956 -6.744577   \n",
       "194      0.03078  0.04398  21.209       0  0.462803  0.664357 -5.724056   \n",
       "\n",
       "      spread2        D2       PPE  \n",
       "0    0.266482  2.301442  0.284654  \n",
       "1    0.335590  2.486855  0.368674  \n",
       "2    0.311173  2.342259  0.332634  \n",
       "3    0.334147  2.405554  0.368975  \n",
       "4    0.234513  2.332180  0.410335  \n",
       "..        ...       ...       ...  \n",
       "190  0.121952  2.657476  0.133050  \n",
       "191  0.129303  2.784312  0.168895  \n",
       "192  0.158453  2.679772  0.131728  \n",
       "193  0.207454  2.138608  0.123306  \n",
       "194  0.190667  2.555477  0.148569  \n",
       "\n",
       "[195 rows x 24 columns]"
      ]
     },
     "metadata": {},
     "output_type": "display_data"
    }
   ],
   "source": [
    "#read the data into a DataFrame \n",
    "data=pd.read_csv('../input/parkinson-disease/Parkinson disease.csv')\n",
    "#data.head() # get the first 5 records\n",
    "display(data)  \n",
    "#data.head(10).style.background_gradient(cmap=\"RdYlBu\")\n",
    " \n"
   ]
  },
  {
   "cell_type": "markdown",
   "id": "66fe7cb9",
   "metadata": {
    "papermill": {
     "duration": 0.052792,
     "end_time": "2021-10-06T23:16:30.357572",
     "exception": false,
     "start_time": "2021-10-06T23:16:30.304780",
     "status": "completed"
    },
    "tags": []
   },
   "source": [
    "# Data Analysis\n",
    " "
   ]
  },
  {
   "cell_type": "code",
   "execution_count": 3,
   "id": "7dbb96f0",
   "metadata": {
    "execution": {
     "iopub.execute_input": "2021-10-06T23:16:30.463917Z",
     "iopub.status.busy": "2021-10-06T23:16:30.462999Z",
     "iopub.status.idle": "2021-10-06T23:16:30.466371Z",
     "shell.execute_reply": "2021-10-06T23:16:30.466883Z",
     "shell.execute_reply.started": "2021-10-06T23:14:59.487303Z"
    },
    "papermill": {
     "duration": 0.056082,
     "end_time": "2021-10-06T23:16:30.467061",
     "exception": false,
     "start_time": "2021-10-06T23:16:30.410979",
     "status": "completed"
    },
    "tags": []
   },
   "outputs": [
    {
     "data": {
      "text/plain": [
       "Index(['name', 'MDVP:Fo(Hz)', 'MDVP:Fhi(Hz)', 'MDVP:Flo(Hz)', 'MDVP:Jitter(%)',\n",
       "       'MDVP:Jitter(Abs)', 'MDVP:RAP', 'MDVP:PPQ', 'Jitter:DDP',\n",
       "       'MDVP:Shimmer', 'MDVP:Shimmer(dB)', 'Shimmer:APQ3', 'Shimmer:APQ5',\n",
       "       'MDVP:APQ', 'Shimmer:DDA', 'NHR', 'HNR', 'status', 'RPDE', 'DFA',\n",
       "       'spread1', 'spread2', 'D2', 'PPE'],\n",
       "      dtype='object')"
      ]
     },
     "execution_count": 3,
     "metadata": {},
     "output_type": "execute_result"
    }
   ],
   "source": [
    "#fetch all columns\n",
    "data.columns"
   ]
  },
  {
   "cell_type": "code",
   "execution_count": 4,
   "id": "9eb99696",
   "metadata": {
    "execution": {
     "iopub.execute_input": "2021-10-06T23:16:30.576087Z",
     "iopub.status.busy": "2021-10-06T23:16:30.573080Z",
     "iopub.status.idle": "2021-10-06T23:16:30.580179Z",
     "shell.execute_reply": "2021-10-06T23:16:30.579529Z",
     "shell.execute_reply.started": "2021-10-06T23:14:59.504723Z"
    },
    "papermill": {
     "duration": 0.064563,
     "end_time": "2021-10-06T23:16:30.580353",
     "exception": false,
     "start_time": "2021-10-06T23:16:30.515790",
     "status": "completed"
    },
    "tags": []
   },
   "outputs": [
    {
     "data": {
      "text/plain": [
       "(195, 24)"
      ]
     },
     "execution_count": 4,
     "metadata": {},
     "output_type": "execute_result"
    }
   ],
   "source": [
    "data.shape"
   ]
  },
  {
   "cell_type": "markdown",
   "id": "0d2e5a11",
   "metadata": {
    "papermill": {
     "duration": 0.051774,
     "end_time": "2021-10-06T23:16:30.683811",
     "exception": false,
     "start_time": "2021-10-06T23:16:30.632037",
     "status": "completed"
    },
    "tags": []
   },
   "source": [
    "There are 195 rows (records) of data and 24 features (columns)\n",
    "\n"
   ]
  },
  {
   "cell_type": "code",
   "execution_count": 5,
   "id": "18cc7b00",
   "metadata": {
    "execution": {
     "iopub.execute_input": "2021-10-06T23:16:30.797791Z",
     "iopub.status.busy": "2021-10-06T23:16:30.796349Z",
     "iopub.status.idle": "2021-10-06T23:16:30.804430Z",
     "shell.execute_reply": "2021-10-06T23:16:30.805133Z",
     "shell.execute_reply.started": "2021-10-06T23:14:59.518902Z"
    },
    "papermill": {
     "duration": 0.069681,
     "end_time": "2021-10-06T23:16:30.805346",
     "exception": false,
     "start_time": "2021-10-06T23:16:30.735665",
     "status": "completed"
    },
    "tags": []
   },
   "outputs": [
    {
     "data": {
      "text/plain": [
       "name                 object\n",
       "MDVP:Fo(Hz)         float64\n",
       "MDVP:Fhi(Hz)        float64\n",
       "MDVP:Flo(Hz)        float64\n",
       "MDVP:Jitter(%)      float64\n",
       "MDVP:Jitter(Abs)    float64\n",
       "MDVP:RAP            float64\n",
       "MDVP:PPQ            float64\n",
       "Jitter:DDP          float64\n",
       "MDVP:Shimmer        float64\n",
       "MDVP:Shimmer(dB)    float64\n",
       "Shimmer:APQ3        float64\n",
       "Shimmer:APQ5        float64\n",
       "MDVP:APQ            float64\n",
       "Shimmer:DDA         float64\n",
       "NHR                 float64\n",
       "HNR                 float64\n",
       "status                int64\n",
       "RPDE                float64\n",
       "DFA                 float64\n",
       "spread1             float64\n",
       "spread2             float64\n",
       "D2                  float64\n",
       "PPE                 float64\n",
       "dtype: object"
      ]
     },
     "execution_count": 5,
     "metadata": {},
     "output_type": "execute_result"
    }
   ],
   "source": [
    "data.dtypes"
   ]
  },
  {
   "cell_type": "code",
   "execution_count": 6,
   "id": "626b0ef0",
   "metadata": {
    "execution": {
     "iopub.execute_input": "2021-10-06T23:16:30.932710Z",
     "iopub.status.busy": "2021-10-06T23:16:30.924749Z",
     "iopub.status.idle": "2021-10-06T23:16:30.954181Z",
     "shell.execute_reply": "2021-10-06T23:16:30.954928Z",
     "shell.execute_reply.started": "2021-10-06T23:14:59.538444Z"
    },
    "papermill": {
     "duration": 0.092176,
     "end_time": "2021-10-06T23:16:30.955144",
     "exception": false,
     "start_time": "2021-10-06T23:16:30.862968",
     "status": "completed"
    },
    "tags": []
   },
   "outputs": [
    {
     "data": {
      "text/html": [
       "<div>\n",
       "<style scoped>\n",
       "    .dataframe tbody tr th:only-of-type {\n",
       "        vertical-align: middle;\n",
       "    }\n",
       "\n",
       "    .dataframe tbody tr th {\n",
       "        vertical-align: top;\n",
       "    }\n",
       "\n",
       "    .dataframe thead th {\n",
       "        text-align: right;\n",
       "    }\n",
       "</style>\n",
       "<table border=\"1\" class=\"dataframe\">\n",
       "  <thead>\n",
       "    <tr style=\"text-align: right;\">\n",
       "      <th></th>\n",
       "      <th>name</th>\n",
       "      <th>MDVP:Fo(Hz)</th>\n",
       "      <th>MDVP:Fhi(Hz)</th>\n",
       "      <th>MDVP:Flo(Hz)</th>\n",
       "      <th>MDVP:Jitter(%)</th>\n",
       "      <th>MDVP:Jitter(Abs)</th>\n",
       "      <th>MDVP:RAP</th>\n",
       "      <th>MDVP:PPQ</th>\n",
       "      <th>Jitter:DDP</th>\n",
       "      <th>MDVP:Shimmer</th>\n",
       "      <th>...</th>\n",
       "      <th>Shimmer:DDA</th>\n",
       "      <th>NHR</th>\n",
       "      <th>HNR</th>\n",
       "      <th>status</th>\n",
       "      <th>RPDE</th>\n",
       "      <th>DFA</th>\n",
       "      <th>spread1</th>\n",
       "      <th>spread2</th>\n",
       "      <th>D2</th>\n",
       "      <th>PPE</th>\n",
       "    </tr>\n",
       "  </thead>\n",
       "  <tbody>\n",
       "  </tbody>\n",
       "</table>\n",
       "<p>0 rows × 24 columns</p>\n",
       "</div>"
      ],
      "text/plain": [
       "Empty DataFrame\n",
       "Columns: [name, MDVP:Fo(Hz), MDVP:Fhi(Hz), MDVP:Flo(Hz), MDVP:Jitter(%), MDVP:Jitter(Abs), MDVP:RAP, MDVP:PPQ, Jitter:DDP, MDVP:Shimmer, MDVP:Shimmer(dB), Shimmer:APQ3, Shimmer:APQ5, MDVP:APQ, Shimmer:DDA, NHR, HNR, status, RPDE, DFA, spread1, spread2, D2, PPE]\n",
       "Index: []\n",
       "\n",
       "[0 rows x 24 columns]"
      ]
     },
     "execution_count": 6,
     "metadata": {},
     "output_type": "execute_result"
    }
   ],
   "source": [
    "#check for duplicates in the dataset\n",
    "data[data.duplicated()]"
   ]
  },
  {
   "cell_type": "markdown",
   "id": "8e30872b",
   "metadata": {
    "papermill": {
     "duration": 0.053475,
     "end_time": "2021-10-06T23:16:31.066700",
     "exception": false,
     "start_time": "2021-10-06T23:16:31.013225",
     "status": "completed"
    },
    "tags": []
   },
   "source": [
    "There are no duplicate enteries in the dataset "
   ]
  },
  {
   "cell_type": "code",
   "execution_count": 7,
   "id": "62d46b6b",
   "metadata": {
    "execution": {
     "iopub.execute_input": "2021-10-06T23:16:31.203922Z",
     "iopub.status.busy": "2021-10-06T23:16:31.197557Z",
     "iopub.status.idle": "2021-10-06T23:16:31.208791Z",
     "shell.execute_reply": "2021-10-06T23:16:31.209394Z",
     "shell.execute_reply.started": "2021-10-06T23:14:59.574395Z"
    },
    "papermill": {
     "duration": 0.089691,
     "end_time": "2021-10-06T23:16:31.209590",
     "exception": false,
     "start_time": "2021-10-06T23:16:31.119899",
     "status": "completed"
    },
    "tags": []
   },
   "outputs": [
    {
     "name": "stdout",
     "output_type": "stream",
     "text": [
      "informations about the dataset\n",
      "<class 'pandas.core.frame.DataFrame'>\n",
      "RangeIndex: 195 entries, 0 to 194\n",
      "Data columns (total 24 columns):\n",
      " #   Column            Non-Null Count  Dtype  \n",
      "---  ------            --------------  -----  \n",
      " 0   name              195 non-null    object \n",
      " 1   MDVP:Fo(Hz)       195 non-null    float64\n",
      " 2   MDVP:Fhi(Hz)      195 non-null    float64\n",
      " 3   MDVP:Flo(Hz)      195 non-null    float64\n",
      " 4   MDVP:Jitter(%)    195 non-null    float64\n",
      " 5   MDVP:Jitter(Abs)  195 non-null    float64\n",
      " 6   MDVP:RAP          195 non-null    float64\n",
      " 7   MDVP:PPQ          195 non-null    float64\n",
      " 8   Jitter:DDP        195 non-null    float64\n",
      " 9   MDVP:Shimmer      195 non-null    float64\n",
      " 10  MDVP:Shimmer(dB)  195 non-null    float64\n",
      " 11  Shimmer:APQ3      195 non-null    float64\n",
      " 12  Shimmer:APQ5      195 non-null    float64\n",
      " 13  MDVP:APQ          195 non-null    float64\n",
      " 14  Shimmer:DDA       195 non-null    float64\n",
      " 15  NHR               195 non-null    float64\n",
      " 16  HNR               195 non-null    float64\n",
      " 17  status            195 non-null    int64  \n",
      " 18  RPDE              195 non-null    float64\n",
      " 19  DFA               195 non-null    float64\n",
      " 20  spread1           195 non-null    float64\n",
      " 21  spread2           195 non-null    float64\n",
      " 22  D2                195 non-null    float64\n",
      " 23  PPE               195 non-null    float64\n",
      "dtypes: float64(22), int64(1), object(1)\n",
      "memory usage: 36.7+ KB\n",
      "Null Values Check\n",
      "\n",
      "name                0\n",
      "MDVP:Fo(Hz)         0\n",
      "MDVP:Fhi(Hz)        0\n",
      "MDVP:Flo(Hz)        0\n",
      "MDVP:Jitter(%)      0\n",
      "MDVP:Jitter(Abs)    0\n",
      "MDVP:RAP            0\n",
      "MDVP:PPQ            0\n",
      "Jitter:DDP          0\n",
      "MDVP:Shimmer        0\n",
      "MDVP:Shimmer(dB)    0\n",
      "Shimmer:APQ3        0\n",
      "Shimmer:APQ5        0\n",
      "MDVP:APQ            0\n",
      "Shimmer:DDA         0\n",
      "NHR                 0\n",
      "HNR                 0\n",
      "status              0\n",
      "RPDE                0\n",
      "DFA                 0\n",
      "spread1             0\n",
      "spread2             0\n",
      "D2                  0\n",
      "PPE                 0\n",
      "dtype: int64\n",
      "\n",
      "\n",
      " NAN Values Check \n",
      "\n",
      "name                0\n",
      "MDVP:Fo(Hz)         0\n",
      "MDVP:Fhi(Hz)        0\n",
      "MDVP:Flo(Hz)        0\n",
      "MDVP:Jitter(%)      0\n",
      "MDVP:Jitter(Abs)    0\n",
      "MDVP:RAP            0\n",
      "MDVP:PPQ            0\n",
      "Jitter:DDP          0\n",
      "MDVP:Shimmer        0\n",
      "MDVP:Shimmer(dB)    0\n",
      "Shimmer:APQ3        0\n",
      "Shimmer:APQ5        0\n",
      "MDVP:APQ            0\n",
      "Shimmer:DDA         0\n",
      "NHR                 0\n",
      "HNR                 0\n",
      "status              0\n",
      "RPDE                0\n",
      "DFA                 0\n",
      "spread1             0\n",
      "spread2             0\n",
      "D2                  0\n",
      "PPE                 0\n",
      "dtype: int64\n"
     ]
    }
   ],
   "source": [
    "print('informations about the dataset')\n",
    "data.info()\n",
    "# ensure that there are no Null Values\n",
    "print(\"Null Values Check\\n\")\n",
    "print(data.isnull().sum())\n",
    "print(\"\\n\\n NAN Values Check \\n\")\n",
    "print(data.isna().sum())"
   ]
  },
  {
   "cell_type": "markdown",
   "id": "07bb7c02",
   "metadata": {
    "papermill": {
     "duration": 0.057338,
     "end_time": "2021-10-06T23:16:31.323216",
     "exception": false,
     "start_time": "2021-10-06T23:16:31.265878",
     "status": "completed"
    },
    "tags": []
   },
   "source": [
    "> There are no missing values. Now we can take a look at how many patients are actually suffering from parkinson disease (1) and how many are not (0):"
   ]
  },
  {
   "cell_type": "code",
   "execution_count": 8,
   "id": "f14b97ed",
   "metadata": {
    "execution": {
     "iopub.execute_input": "2021-10-06T23:16:31.471082Z",
     "iopub.status.busy": "2021-10-06T23:16:31.447325Z",
     "iopub.status.idle": "2021-10-06T23:16:31.715471Z",
     "shell.execute_reply": "2021-10-06T23:16:31.714935Z",
     "shell.execute_reply.started": "2021-10-06T23:14:59.599390Z"
    },
    "papermill": {
     "duration": 0.338764,
     "end_time": "2021-10-06T23:16:31.715655",
     "exception": false,
     "start_time": "2021-10-06T23:16:31.376891",
     "status": "completed"
    },
    "tags": []
   },
   "outputs": [
    {
     "data": {
      "image/png": "[encoded data removed]",
      "text/plain": [
       "<Figure size 432x288 with 1 Axes>"
      ]
     },
     "metadata": {
      "needs_background": "light"
     },
     "output_type": "display_data"
    }
   ],
   "source": [
    "#distribution of status variable.\n",
    "sns.countplot(data['status'])\n",
    "\n",
    "# Add labels\n",
    "plt.title('Countplot of status')\n",
    "plt.xlabel('status')\n",
    "plt.ylabel('Patients')\n",
    "plt.show()"
   ]
  },
  {
   "cell_type": "markdown",
   "id": "d8e33773",
   "metadata": {
    "papermill": {
     "duration": 0.051946,
     "end_time": "2021-10-06T23:16:31.821580",
     "exception": false,
     "start_time": "2021-10-06T23:16:31.769634",
     "status": "completed"
    },
    "tags": []
   },
   "source": [
    "This is an unbalanced dataset,it is fairly skewed towards patients with Parkinsons.\n",
    "\n"
   ]
  },
  {
   "cell_type": "code",
   "execution_count": 9,
   "id": "c2c2f802",
   "metadata": {
    "execution": {
     "iopub.execute_input": "2021-10-06T23:16:31.944244Z",
     "iopub.status.busy": "2021-10-06T23:16:31.942748Z",
     "iopub.status.idle": "2021-10-06T23:16:32.026918Z",
     "shell.execute_reply": "2021-10-06T23:16:32.027629Z",
     "shell.execute_reply.started": "2021-10-06T23:14:59.801813Z"
    },
    "papermill": {
     "duration": 0.152627,
     "end_time": "2021-10-06T23:16:32.027859",
     "exception": false,
     "start_time": "2021-10-06T23:16:31.875232",
     "status": "completed"
    },
    "tags": []
   },
   "outputs": [
    {
     "data": {
      "text/html": [
       "<div>\n",
       "<style scoped>\n",
       "    .dataframe tbody tr th:only-of-type {\n",
       "        vertical-align: middle;\n",
       "    }\n",
       "\n",
       "    .dataframe tbody tr th {\n",
       "        vertical-align: top;\n",
       "    }\n",
       "\n",
       "    .dataframe thead th {\n",
       "        text-align: right;\n",
       "    }\n",
       "</style>\n",
       "<table border=\"1\" class=\"dataframe\">\n",
       "  <thead>\n",
       "    <tr style=\"text-align: right;\">\n",
       "      <th></th>\n",
       "      <th>count</th>\n",
       "      <th>mean</th>\n",
       "      <th>std</th>\n",
       "      <th>min</th>\n",
       "      <th>25%</th>\n",
       "      <th>50%</th>\n",
       "      <th>75%</th>\n",
       "      <th>max</th>\n",
       "    </tr>\n",
       "  </thead>\n",
       "  <tbody>\n",
       "    <tr>\n",
       "      <th>MDVP:Fo(Hz)</th>\n",
       "      <td>195.0</td>\n",
       "      <td>154.228641</td>\n",
       "      <td>41.390065</td>\n",
       "      <td>88.333000</td>\n",
       "      <td>117.572000</td>\n",
       "      <td>148.790000</td>\n",
       "      <td>182.769000</td>\n",
       "      <td>260.105000</td>\n",
       "    </tr>\n",
       "    <tr>\n",
       "      <th>MDVP:Fhi(Hz)</th>\n",
       "      <td>195.0</td>\n",
       "      <td>197.104918</td>\n",
       "      <td>91.491548</td>\n",
       "      <td>102.145000</td>\n",
       "      <td>134.862500</td>\n",
       "      <td>175.829000</td>\n",
       "      <td>224.205500</td>\n",
       "      <td>592.030000</td>\n",
       "    </tr>\n",
       "    <tr>\n",
       "      <th>MDVP:Flo(Hz)</th>\n",
       "      <td>195.0</td>\n",
       "      <td>116.324631</td>\n",
       "      <td>43.521413</td>\n",
       "      <td>65.476000</td>\n",
       "      <td>84.291000</td>\n",
       "      <td>104.315000</td>\n",
       "      <td>140.018500</td>\n",
       "      <td>239.170000</td>\n",
       "    </tr>\n",
       "    <tr>\n",
       "      <th>MDVP:Jitter(%)</th>\n",
       "      <td>195.0</td>\n",
       "      <td>0.006220</td>\n",
       "      <td>0.004848</td>\n",
       "      <td>0.001680</td>\n",
       "      <td>0.003460</td>\n",
       "      <td>0.004940</td>\n",
       "      <td>0.007365</td>\n",
       "      <td>0.033160</td>\n",
       "    </tr>\n",
       "    <tr>\n",
       "      <th>MDVP:Jitter(Abs)</th>\n",
       "      <td>195.0</td>\n",
       "      <td>0.000044</td>\n",
       "      <td>0.000035</td>\n",
       "      <td>0.000007</td>\n",
       "      <td>0.000020</td>\n",
       "      <td>0.000030</td>\n",
       "      <td>0.000060</td>\n",
       "      <td>0.000260</td>\n",
       "    </tr>\n",
       "    <tr>\n",
       "      <th>MDVP:RAP</th>\n",
       "      <td>195.0</td>\n",
       "      <td>0.003306</td>\n",
       "      <td>0.002968</td>\n",
       "      <td>0.000680</td>\n",
       "      <td>0.001660</td>\n",
       "      <td>0.002500</td>\n",
       "      <td>0.003835</td>\n",
       "      <td>0.021440</td>\n",
       "    </tr>\n",
       "    <tr>\n",
       "      <th>MDVP:PPQ</th>\n",
       "      <td>195.0</td>\n",
       "      <td>0.003446</td>\n",
       "      <td>0.002759</td>\n",
       "      <td>0.000920</td>\n",
       "      <td>0.001860</td>\n",
       "      <td>0.002690</td>\n",
       "      <td>0.003955</td>\n",
       "      <td>0.019580</td>\n",
       "    </tr>\n",
       "    <tr>\n",
       "      <th>Jitter:DDP</th>\n",
       "      <td>195.0</td>\n",
       "      <td>0.009920</td>\n",
       "      <td>0.008903</td>\n",
       "      <td>0.002040</td>\n",
       "      <td>0.004985</td>\n",
       "      <td>0.007490</td>\n",
       "      <td>0.011505</td>\n",
       "      <td>0.064330</td>\n",
       "    </tr>\n",
       "    <tr>\n",
       "      <th>MDVP:Shimmer</th>\n",
       "      <td>195.0</td>\n",
       "      <td>0.029709</td>\n",
       "      <td>0.018857</td>\n",
       "      <td>0.009540</td>\n",
       "      <td>0.016505</td>\n",
       "      <td>0.022970</td>\n",
       "      <td>0.037885</td>\n",
       "      <td>0.119080</td>\n",
       "    </tr>\n",
       "    <tr>\n",
       "      <th>MDVP:Shimmer(dB)</th>\n",
       "      <td>195.0</td>\n",
       "      <td>0.282251</td>\n",
       "      <td>0.194877</td>\n",
       "      <td>0.085000</td>\n",
       "      <td>0.148500</td>\n",
       "      <td>0.221000</td>\n",
       "      <td>0.350000</td>\n",
       "      <td>1.302000</td>\n",
       "    </tr>\n",
       "    <tr>\n",
       "      <th>Shimmer:APQ3</th>\n",
       "      <td>195.0</td>\n",
       "      <td>0.015664</td>\n",
       "      <td>0.010153</td>\n",
       "      <td>0.004550</td>\n",
       "      <td>0.008245</td>\n",
       "      <td>0.012790</td>\n",
       "      <td>0.020265</td>\n",
       "      <td>0.056470</td>\n",
       "    </tr>\n",
       "    <tr>\n",
       "      <th>Shimmer:APQ5</th>\n",
       "      <td>195.0</td>\n",
       "      <td>0.017878</td>\n",
       "      <td>0.012024</td>\n",
       "      <td>0.005700</td>\n",
       "      <td>0.009580</td>\n",
       "      <td>0.013470</td>\n",
       "      <td>0.022380</td>\n",
       "      <td>0.079400</td>\n",
       "    </tr>\n",
       "    <tr>\n",
       "      <th>MDVP:APQ</th>\n",
       "      <td>195.0</td>\n",
       "      <td>0.024081</td>\n",
       "      <td>0.016947</td>\n",
       "      <td>0.007190</td>\n",
       "      <td>0.013080</td>\n",
       "      <td>0.018260</td>\n",
       "      <td>0.029400</td>\n",
       "      <td>0.137780</td>\n",
       "    </tr>\n",
       "    <tr>\n",
       "      <th>Shimmer:DDA</th>\n",
       "      <td>195.0</td>\n",
       "      <td>0.046993</td>\n",
       "      <td>0.030459</td>\n",
       "      <td>0.013640</td>\n",
       "      <td>0.024735</td>\n",
       "      <td>0.038360</td>\n",
       "      <td>0.060795</td>\n",
       "      <td>0.169420</td>\n",
       "    </tr>\n",
       "    <tr>\n",
       "      <th>NHR</th>\n",
       "      <td>195.0</td>\n",
       "      <td>0.024847</td>\n",
       "      <td>0.040418</td>\n",
       "      <td>0.000650</td>\n",
       "      <td>0.005925</td>\n",
       "      <td>0.011660</td>\n",
       "      <td>0.025640</td>\n",
       "      <td>0.314820</td>\n",
       "    </tr>\n",
       "    <tr>\n",
       "      <th>HNR</th>\n",
       "      <td>195.0</td>\n",
       "      <td>21.885974</td>\n",
       "      <td>4.425764</td>\n",
       "      <td>8.441000</td>\n",
       "      <td>19.198000</td>\n",
       "      <td>22.085000</td>\n",
       "      <td>25.075500</td>\n",
       "      <td>33.047000</td>\n",
       "    </tr>\n",
       "    <tr>\n",
       "      <th>status</th>\n",
       "      <td>195.0</td>\n",
       "      <td>0.753846</td>\n",
       "      <td>0.431878</td>\n",
       "      <td>0.000000</td>\n",
       "      <td>1.000000</td>\n",
       "      <td>1.000000</td>\n",
       "      <td>1.000000</td>\n",
       "      <td>1.000000</td>\n",
       "    </tr>\n",
       "    <tr>\n",
       "      <th>RPDE</th>\n",
       "      <td>195.0</td>\n",
       "      <td>0.498536</td>\n",
       "      <td>0.103942</td>\n",
       "      <td>0.256570</td>\n",
       "      <td>0.421306</td>\n",
       "      <td>0.495954</td>\n",
       "      <td>0.587562</td>\n",
       "      <td>0.685151</td>\n",
       "    </tr>\n",
       "    <tr>\n",
       "      <th>DFA</th>\n",
       "      <td>195.0</td>\n",
       "      <td>0.718099</td>\n",
       "      <td>0.055336</td>\n",
       "      <td>0.574282</td>\n",
       "      <td>0.674758</td>\n",
       "      <td>0.722254</td>\n",
       "      <td>0.761881</td>\n",
       "      <td>0.825288</td>\n",
       "    </tr>\n",
       "    <tr>\n",
       "      <th>spread1</th>\n",
       "      <td>195.0</td>\n",
       "      <td>-5.684397</td>\n",
       "      <td>1.090208</td>\n",
       "      <td>-7.964984</td>\n",
       "      <td>-6.450096</td>\n",
       "      <td>-5.720868</td>\n",
       "      <td>-5.046192</td>\n",
       "      <td>-2.434031</td>\n",
       "    </tr>\n",
       "    <tr>\n",
       "      <th>spread2</th>\n",
       "      <td>195.0</td>\n",
       "      <td>0.226510</td>\n",
       "      <td>0.083406</td>\n",
       "      <td>0.006274</td>\n",
       "      <td>0.174351</td>\n",
       "      <td>0.218885</td>\n",
       "      <td>0.279234</td>\n",
       "      <td>0.450493</td>\n",
       "    </tr>\n",
       "    <tr>\n",
       "      <th>D2</th>\n",
       "      <td>195.0</td>\n",
       "      <td>2.381826</td>\n",
       "      <td>0.382799</td>\n",
       "      <td>1.423287</td>\n",
       "      <td>2.099125</td>\n",
       "      <td>2.361532</td>\n",
       "      <td>2.636456</td>\n",
       "      <td>3.671155</td>\n",
       "    </tr>\n",
       "    <tr>\n",
       "      <th>PPE</th>\n",
       "      <td>195.0</td>\n",
       "      <td>0.206552</td>\n",
       "      <td>0.090119</td>\n",
       "      <td>0.044539</td>\n",
       "      <td>0.137451</td>\n",
       "      <td>0.194052</td>\n",
       "      <td>0.252980</td>\n",
       "      <td>0.527367</td>\n",
       "    </tr>\n",
       "  </tbody>\n",
       "</table>\n",
       "</div>"
      ],
      "text/plain": [
       "                  count        mean        std         min         25%  \\\n",
       "MDVP:Fo(Hz)       195.0  154.228641  41.390065   88.333000  117.572000   \n",
       "MDVP:Fhi(Hz)      195.0  197.104918  91.491548  102.145000  134.862500   \n",
       "MDVP:Flo(Hz)      195.0  116.324631  43.521413   65.476000   84.291000   \n",
       "MDVP:Jitter(%)    195.0    0.006220   0.004848    0.001680    0.003460   \n",
       "MDVP:Jitter(Abs)  195.0    0.000044   0.000035    0.000007    0.000020   \n",
       "MDVP:RAP          195.0    0.003306   0.002968    0.000680    0.001660   \n",
       "MDVP:PPQ          195.0    0.003446   0.002759    0.000920    0.001860   \n",
       "Jitter:DDP        195.0    0.009920   0.008903    0.002040    0.004985   \n",
       "MDVP:Shimmer      195.0    0.029709   0.018857    0.009540    0.016505   \n",
       "MDVP:Shimmer(dB)  195.0    0.282251   0.194877    0.085000    0.148500   \n",
       "Shimmer:APQ3      195.0    0.015664   0.010153    0.004550    0.008245   \n",
       "Shimmer:APQ5      195.0    0.017878   0.012024    0.005700    0.009580   \n",
       "MDVP:APQ          195.0    0.024081   0.016947    0.007190    0.013080   \n",
       "Shimmer:DDA       195.0    0.046993   0.030459    0.013640    0.024735   \n",
       "NHR               195.0    0.024847   0.040418    0.000650    0.005925   \n",
       "HNR               195.0   21.885974   4.425764    8.441000   19.198000   \n",
       "status            195.0    0.753846   0.431878    0.000000    1.000000   \n",
       "RPDE              195.0    0.498536   0.103942    0.256570    0.421306   \n",
       "DFA               195.0    0.718099   0.055336    0.574282    0.674758   \n",
       "spread1           195.0   -5.684397   1.090208   -7.964984   -6.450096   \n",
       "spread2           195.0    0.226510   0.083406    0.006274    0.174351   \n",
       "D2                195.0    2.381826   0.382799    1.423287    2.099125   \n",
       "PPE               195.0    0.206552   0.090119    0.044539    0.137451   \n",
       "\n",
       "                         50%         75%         max  \n",
       "MDVP:Fo(Hz)       148.790000  182.769000  260.105000  \n",
       "MDVP:Fhi(Hz)      175.829000  224.205500  592.030000  \n",
       "MDVP:Flo(Hz)      104.315000  140.018500  239.170000  \n",
       "MDVP:Jitter(%)      0.004940    0.007365    0.033160  \n",
       "MDVP:Jitter(Abs)    0.000030    0.000060    0.000260  \n",
       "MDVP:RAP            0.002500    0.003835    0.021440  \n",
       "MDVP:PPQ            0.002690    0.003955    0.019580  \n",
       "Jitter:DDP          0.007490    0.011505    0.064330  \n",
       "MDVP:Shimmer        0.022970    0.037885    0.119080  \n",
       "MDVP:Shimmer(dB)    0.221000    0.350000    1.302000  \n",
       "Shimmer:APQ3        0.012790    0.020265    0.056470  \n",
       "Shimmer:APQ5        0.013470    0.022380    0.079400  \n",
       "MDVP:APQ            0.018260    0.029400    0.137780  \n",
       "Shimmer:DDA         0.038360    0.060795    0.169420  \n",
       "NHR                 0.011660    0.025640    0.314820  \n",
       "HNR                22.085000   25.075500   33.047000  \n",
       "status              1.000000    1.000000    1.000000  \n",
       "RPDE                0.495954    0.587562    0.685151  \n",
       "DFA                 0.722254    0.761881    0.825288  \n",
       "spread1            -5.720868   -5.046192   -2.434031  \n",
       "spread2             0.218885    0.279234    0.450493  \n",
       "D2                  2.361532    2.636456    3.671155  \n",
       "PPE                 0.194052    0.252980    0.527367  "
      ]
     },
     "execution_count": 9,
     "metadata": {},
     "output_type": "execute_result"
    }
   ],
   "source": [
    "#overview of data\n",
    "data.describe().transpose()"
   ]
  },
  {
   "cell_type": "markdown",
   "id": "da0c7778",
   "metadata": {
    "papermill": {
     "duration": 0.054226,
     "end_time": "2021-10-06T23:16:32.137482",
     "exception": false,
     "start_time": "2021-10-06T23:16:32.083256",
     "status": "completed"
    },
    "tags": []
   },
   "source": [
    "**Univariate Analysis**"
   ]
  },
  {
   "cell_type": "code",
   "execution_count": 10,
   "id": "520ccca4",
   "metadata": {
    "execution": {
     "iopub.execute_input": "2021-10-06T23:16:32.358582Z",
     "iopub.status.busy": "2021-10-06T23:16:32.352991Z",
     "iopub.status.idle": "2021-10-06T23:16:33.428183Z",
     "shell.execute_reply": "2021-10-06T23:16:33.428678Z",
     "shell.execute_reply.started": "2021-10-06T23:14:59.872119Z"
    },
    "papermill": {
     "duration": 1.236789,
     "end_time": "2021-10-06T23:16:33.428871",
     "exception": false,
     "start_time": "2021-10-06T23:16:32.192082",
     "status": "completed"
    },
    "tags": []
   },
   "outputs": [
    {
     "name": "stdout",
     "output_type": "stream",
     "text": [
      "The measures of vocal fundamental frequency\n"
     ]
    },
    {
     "data": {
      "text/plain": [
       "<AxesSubplot:xlabel='MDVP:Fhi(Hz)', ylabel='Density'>"
      ]
     },
     "execution_count": 10,
     "metadata": {},
     "output_type": "execute_result"
    },
    {
     "data": {
      "image/png": "[encoded data removed]",
      "text/plain": [
       "<Figure size 1080x432 with 3 Axes>"
      ]
     },
     "metadata": {
      "needs_background": "light"
     },
     "output_type": "display_data"
    }
   ],
   "source": [
    "#the distribution of the features individually\n",
    "print('The measures of vocal fundamental frequency')\n",
    "fig, ax = plt.subplots(1,3,figsize=(15,6)) \n",
    "sns.distplot(data['MDVP:Flo(Hz)'],ax=ax[0]) \n",
    "sns.distplot(data['MDVP:Fo(Hz)'],ax=ax[1]) \n",
    "sns.distplot(data['MDVP:Fhi(Hz)'],ax=ax[2])"
   ]
  },
  {
   "cell_type": "markdown",
   "id": "a54fa4a1",
   "metadata": {
    "papermill": {
     "duration": 0.063252,
     "end_time": "2021-10-06T23:16:33.549313",
     "exception": false,
     "start_time": "2021-10-06T23:16:33.486061",
     "status": "completed"
    },
    "tags": []
   },
   "source": [
    "There is a positive skewness for minimum vocal fundemental frequency.\n",
    "\n",
    "The high vocal frequency does not have any skewness."
   ]
  },
  {
   "cell_type": "code",
   "execution_count": 11,
   "id": "6ed7806a",
   "metadata": {
    "execution": {
     "iopub.execute_input": "2021-10-06T23:16:33.723072Z",
     "iopub.status.busy": "2021-10-06T23:16:33.698270Z",
     "iopub.status.idle": "2021-10-06T23:16:35.341307Z",
     "shell.execute_reply": "2021-10-06T23:16:35.341997Z",
     "shell.execute_reply.started": "2021-10-06T23:15:00.719930Z"
    },
    "papermill": {
     "duration": 1.73238,
     "end_time": "2021-10-06T23:16:35.342225",
     "exception": false,
     "start_time": "2021-10-06T23:16:33.609845",
     "status": "completed"
    },
    "tags": []
   },
   "outputs": [
    {
     "data": {
      "image/png": "[encoded data removed]",
      "text/plain": [
       "<Figure size 1152x576 with 6 Axes>"
      ]
     },
     "metadata": {
      "needs_background": "light"
     },
     "output_type": "display_data"
    }
   ],
   "source": [
    "def distributionPlot(data):\n",
    "    fig, ax = plt.subplots(2,3,figsize=(16,8)) \n",
    "    sns.distplot(data['MDVP:Shimmer'],ax=ax[0,0],color='red') \n",
    "    sns.distplot(data['MDVP:Shimmer(dB)'],ax=ax[0,1],color='gray') \n",
    "    sns.distplot(data['Shimmer:APQ3'],ax=ax[0,2],color='pink') \n",
    "    sns.distplot(data['Shimmer:APQ5'],ax=ax[1,0],color='blue') \n",
    "    sns.distplot(data['MDVP:APQ'],ax=ax[1,1],color='green') \n",
    "    sns.distplot(data['Shimmer:DDA'],ax=ax[1,2],color='Aquamarine')\n",
    "    plt.show()\n",
    "distributionPlot(data)\n"
   ]
  },
  {
   "cell_type": "code",
   "execution_count": 12,
   "id": "f9922b84",
   "metadata": {
    "execution": {
     "iopub.execute_input": "2021-10-06T23:16:35.550413Z",
     "iopub.status.busy": "2021-10-06T23:16:35.539998Z",
     "iopub.status.idle": "2021-10-06T23:16:36.263785Z",
     "shell.execute_reply": "2021-10-06T23:16:36.263110Z",
     "shell.execute_reply.started": "2021-10-06T23:15:01.929357Z"
    },
    "papermill": {
     "duration": 0.852326,
     "end_time": "2021-10-06T23:16:36.263969",
     "exception": false,
     "start_time": "2021-10-06T23:16:35.411643",
     "status": "completed"
    },
    "tags": []
   },
   "outputs": [
    {
     "data": {
      "text/plain": [
       "<AxesSubplot:xlabel='HNR', ylabel='Density'>"
      ]
     },
     "execution_count": 12,
     "metadata": {},
     "output_type": "execute_result"
    },
    {
     "data": {
      "image/png": "[encoded data removed]",
      "text/plain": [
       "<Figure size 720x504 with 2 Axes>"
      ]
     },
     "metadata": {
      "needs_background": "light"
     },
     "output_type": "display_data"
    }
   ],
   "source": [
    "fig, ax = plt.subplots(1,2,figsize=(10,7)) \n",
    "sns.distplot(data['NHR'],ax=ax[0],color='cyan') \n",
    "sns.distplot(data['HNR'],ax=ax[1],color='pink')"
   ]
  },
  {
   "cell_type": "markdown",
   "id": "cca614e2",
   "metadata": {
    "papermill": {
     "duration": 0.071246,
     "end_time": "2021-10-06T23:16:36.414071",
     "exception": false,
     "start_time": "2021-10-06T23:16:36.342825",
     "status": "completed"
    },
    "tags": []
   },
   "source": [
    "The value NHR is positively skewed.\n",
    "\n",
    "The value HNR looks like normally distributed"
   ]
  },
  {
   "cell_type": "code",
   "execution_count": 13,
   "id": "33d1dc8f",
   "metadata": {
    "execution": {
     "iopub.execute_input": "2021-10-06T23:16:36.587347Z",
     "iopub.status.busy": "2021-10-06T23:16:36.586105Z",
     "iopub.status.idle": "2021-10-06T23:16:37.054320Z",
     "shell.execute_reply": "2021-10-06T23:16:37.053638Z",
     "shell.execute_reply.started": "2021-10-06T23:15:02.460696Z"
    },
    "papermill": {
     "duration": 0.57112,
     "end_time": "2021-10-06T23:16:37.054491",
     "exception": false,
     "start_time": "2021-10-06T23:16:36.483371",
     "status": "completed"
    },
    "tags": []
   },
   "outputs": [
    {
     "data": {
      "text/plain": [
       "<AxesSubplot:ylabel='PPE'>"
      ]
     },
     "execution_count": 13,
     "metadata": {},
     "output_type": "execute_result"
    },
    {
     "data": {
      "image/png": "[encoded data removed]",
      "text/plain": [
       "<Figure size 720x504 with 3 Axes>"
      ]
     },
     "metadata": {
      "needs_background": "light"
     },
     "output_type": "display_data"
    }
   ],
   "source": [
    "fig, ax = plt.subplots(1,3,figsize=(10,7)) \n",
    "sns.boxplot(y='spread1',data=data, ax=ax[0],orient='v') \n",
    "sns.boxplot(y='spread2',data=data, ax=ax[1],orient='v')\n",
    "sns.boxplot(y='PPE',data=data,ax=ax[2],orient='v')"
   ]
  },
  {
   "cell_type": "markdown",
   "id": "6a1f0b49",
   "metadata": {
    "papermill": {
     "duration": 0.067128,
     "end_time": "2021-10-06T23:16:37.187274",
     "exception": false,
     "start_time": "2021-10-06T23:16:37.120146",
     "status": "completed"
    },
    "tags": []
   },
   "source": [
    "The three variations have outliers."
   ]
  },
  {
   "cell_type": "markdown",
   "id": "827ff355",
   "metadata": {
    "papermill": {
     "duration": 0.069786,
     "end_time": "2021-10-06T23:16:37.323872",
     "exception": false,
     "start_time": "2021-10-06T23:16:37.254086",
     "status": "completed"
    },
    "tags": []
   },
   "source": [
    "**Inferences :**\n",
    "\n",
    "* Total number of records in the dataset 195\n",
    "* Total number of features in the dataset 24\n",
    "* There are no null values in the dataset\n",
    "* There are no duplicates in the dataset\n",
    "* Distribution of Parkinson disease people and healthy people are not uniformly distributed"
   ]
  },
  {
   "cell_type": "markdown",
   "id": "d6c38ab5",
   "metadata": {
    "papermill": {
     "duration": 0.119996,
     "end_time": "2021-10-06T23:16:37.555447",
     "exception": false,
     "start_time": "2021-10-06T23:16:37.435451",
     "status": "completed"
    },
    "tags": []
   },
   "source": [
    "**BiVariate Analysis**"
   ]
  },
  {
   "cell_type": "code",
   "execution_count": 14,
   "id": "6ab9dd81",
   "metadata": {
    "execution": {
     "iopub.execute_input": "2021-10-06T23:16:37.801688Z",
     "iopub.status.busy": "2021-10-06T23:16:37.800306Z",
     "iopub.status.idle": "2021-10-06T23:16:43.360483Z",
     "shell.execute_reply": "2021-10-06T23:16:43.361146Z",
     "shell.execute_reply.started": "2021-10-06T23:15:02.809349Z"
    },
    "papermill": {
     "duration": 5.683158,
     "end_time": "2021-10-06T23:16:43.361372",
     "exception": false,
     "start_time": "2021-10-06T23:16:37.678214",
     "status": "completed"
    },
    "tags": []
   },
   "outputs": [
    {
     "data": {
      "image/png": "[encoded data removed]",
      "text/plain": [
       "<Figure size 1080x1080 with 25 Axes>"
      ]
     },
     "metadata": {
      "needs_background": "light"
     },
     "output_type": "display_data"
    }
   ],
   "source": [
    "#Bivariate Analysis to study Dependencies\n",
    "#outliers\n",
    "fig,axes=plt.subplots(5,5,figsize=(15,15))\n",
    "axes=axes.flatten()\n",
    "\n",
    "for i in range(1,len(data.columns)-1):\n",
    "    sns.boxplot(x='status',y=data.iloc[:,i],data=data,orient='v',ax=axes[i],palette = 'copper')\n",
    "plt.tight_layout()\n",
    "plt.show()"
   ]
  },
  {
   "cell_type": "markdown",
   "id": "a544b01c",
   "metadata": {
    "papermill": {
     "duration": 0.072521,
     "end_time": "2021-10-06T23:16:43.506728",
     "exception": false,
     "start_time": "2021-10-06T23:16:43.434207",
     "status": "completed"
    },
    "tags": []
   },
   "source": [
    "The boxplot help us in identifying the difference in values with respect to the 'status' of the patient.\n"
   ]
  },
  {
   "cell_type": "markdown",
   "id": "93cccd85",
   "metadata": {
    "papermill": {
     "duration": 0.068495,
     "end_time": "2021-10-06T23:16:43.645766",
     "exception": false,
     "start_time": "2021-10-06T23:16:43.577271",
     "status": "completed"
    },
    "tags": []
   },
   "source": [
    "People who have PD (status = 1) have higher levels of Noise to Harmonic ratio (NHR) but they have lower levels of HNR (Harmonics to noise ratio) than the healthy people.\n",
    "\n",
    "People who have PD tend to have higher jitter % (if the values goes above 0.15 we can confirm the patient is having PD )  \n",
    "\n",
    "Spread1 is normally distributed between person who have PD and who is normal. People who have spread1 between - 8.5 and -7.5 are more and they are normal. People whose spread1 is between -6.5 and -5 are having PD"
   ]
  },
  {
   "cell_type": "markdown",
   "id": "76eddec1",
   "metadata": {
    "papermill": {
     "duration": 0.06438,
     "end_time": "2021-10-06T23:16:43.777141",
     "exception": false,
     "start_time": "2021-10-06T23:16:43.712761",
     "status": "completed"
    },
    "tags": []
   },
   "source": [
    "\n"
   ]
  },
  {
   "cell_type": "markdown",
   "id": "201b0f5a",
   "metadata": {
    "papermill": {
     "duration": 0.081506,
     "end_time": "2021-10-06T23:16:43.928908",
     "exception": false,
     "start_time": "2021-10-06T23:16:43.847402",
     "status": "completed"
    },
    "tags": []
   },
   "source": [
    "# feature engineering  \n"
   ]
  },
  {
   "cell_type": "code",
   "execution_count": 15,
   "id": "3ca1d950",
   "metadata": {
    "execution": {
     "iopub.execute_input": "2021-10-06T23:16:44.101296Z",
     "iopub.status.busy": "2021-10-06T23:16:44.099945Z",
     "iopub.status.idle": "2021-10-06T23:16:44.102123Z",
     "shell.execute_reply": "2021-10-06T23:16:44.102638Z",
     "shell.execute_reply.started": "2021-10-06T23:15:06.455112Z"
    },
    "papermill": {
     "duration": 0.091007,
     "end_time": "2021-10-06T23:16:44.102822",
     "exception": false,
     "start_time": "2021-10-06T23:16:44.011815",
     "status": "completed"
    },
    "tags": []
   },
   "outputs": [],
   "source": [
    "#Get the features and labels from the DataFrame ( 23 features and 1 label (statut))\n",
    "features= data.drop(['status','name'], axis = 1)\n",
    "#features=data.loc[:,data.columns!='status','name'].values[:,1:] #Selecting data by label or by a conditional statement [<row selection>,<column selection>]\n",
    "labels=data.loc[:,'status'].values\n",
    "#features=data.drop(['status','name'],axis=1)\n",
    "#labels=data['status']\n"
   ]
  },
  {
   "cell_type": "code",
   "execution_count": 16,
   "id": "27a14ca7",
   "metadata": {
    "execution": {
     "iopub.execute_input": "2021-10-06T23:16:44.253029Z",
     "iopub.status.busy": "2021-10-06T23:16:44.251542Z",
     "iopub.status.idle": "2021-10-06T23:16:44.258927Z",
     "shell.execute_reply": "2021-10-06T23:16:44.258210Z",
     "shell.execute_reply.started": "2021-10-06T23:15:06.462722Z"
    },
    "papermill": {
     "duration": 0.086362,
     "end_time": "2021-10-06T23:16:44.259097",
     "exception": false,
     "start_time": "2021-10-06T23:16:44.172735",
     "status": "completed"
    },
    "tags": []
   },
   "outputs": [
    {
     "name": "stdout",
     "output_type": "stream",
     "text": [
      "number of parkinson people in the dataset: 147\n",
      "number of Healthy people in the dataset:  48\n"
     ]
    }
   ],
   "source": [
    "#Get the count of each label (0 and 1) in labels\n",
    "print('number of parkinson people in the dataset:',labels[labels==1].shape[0])\n",
    "print('number of Healthy people in the dataset: ',labels[labels==0].shape[0]) #The shape attribute for numpy arrays returns the dimensions of the array\n",
    "#1 : 147 , 0 : 48"
   ]
  },
  {
   "cell_type": "markdown",
   "id": "34ee9801",
   "metadata": {
    "papermill": {
     "duration": 0.076852,
     "end_time": "2021-10-06T23:16:44.423303",
     "exception": false,
     "start_time": "2021-10-06T23:16:44.346451",
     "status": "completed"
    },
    "tags": []
   },
   "source": [
    "# Normalize data (data preprocessing)\n",
    "Initialize a MinMaxScaler and scale the features between -1 and 1 to normalize them.\n",
    "The MinMaxScaler transforms features by scaling them to a given range. The fit_transform() method fits to the data and then transforms it.We don't need to scale labels"
   ]
  },
  {
   "cell_type": "code",
   "execution_count": 17,
   "id": "e7fd4e8f",
   "metadata": {
    "execution": {
     "iopub.execute_input": "2021-10-06T23:16:44.579349Z",
     "iopub.status.busy": "2021-10-06T23:16:44.578557Z",
     "iopub.status.idle": "2021-10-06T23:16:44.583755Z",
     "shell.execute_reply": "2021-10-06T23:16:44.583102Z",
     "shell.execute_reply.started": "2021-10-06T23:15:06.474148Z"
    },
    "papermill": {
     "duration": 0.088351,
     "end_time": "2021-10-06T23:16:44.583929",
     "exception": false,
     "start_time": "2021-10-06T23:16:44.495578",
     "status": "completed"
    },
    "tags": []
   },
   "outputs": [],
   "source": [
    "#Scale the features to between -1 and 1 (normalisation)\n",
    "scaler=MinMaxScaler((-1,1))\n",
    "x=scaler.fit_transform(features)\n",
    "y=labels"
   ]
  },
  {
   "cell_type": "code",
   "execution_count": 18,
   "id": "1bdd145a",
   "metadata": {
    "execution": {
     "iopub.execute_input": "2021-10-06T23:16:44.747798Z",
     "iopub.status.busy": "2021-10-06T23:16:44.746626Z",
     "iopub.status.idle": "2021-10-06T23:16:44.758627Z",
     "shell.execute_reply": "2021-10-06T23:16:44.757567Z",
     "shell.execute_reply.started": "2021-10-06T23:15:06.486333Z"
    },
    "papermill": {
     "duration": 0.09986,
     "end_time": "2021-10-06T23:16:44.758890",
     "exception": false,
     "start_time": "2021-10-06T23:16:44.659030",
     "status": "completed"
    },
    "tags": []
   },
   "outputs": [
    {
     "name": "stdout",
     "output_type": "stream",
     "text": [
      "80.0% data is in training set\n",
      "20.0% data is in test set\n",
      "(156, 22)\n",
      "(39, 22)\n"
     ]
    }
   ],
   "source": [
    "#split the dataset into training and testing sets keeping 20% of the data for testing.\n",
    "x_train,x_test,y_train,y_test=train_test_split(x, y, test_size=0.2, random_state=2)\n",
    "print(\"{0:.1f}% data is in training set\".format((len(x_train)/len(data)) * 100))\n",
    "print(\"{0:.1f}% data is in test set\".format((len(x_test)/len(y)) * 100))\n",
    "#overview of data\n",
    "print(x_train.shape)\n",
    "print(x_test.shape)"
   ]
  },
  {
   "cell_type": "markdown",
   "id": "ff663e0a",
   "metadata": {
    "papermill": {
     "duration": 0.075826,
     "end_time": "2021-10-06T23:16:44.907045",
     "exception": false,
     "start_time": "2021-10-06T23:16:44.831219",
     "status": "completed"
    },
    "tags": []
   },
   "source": [
    "# Build the Model"
   ]
  },
  {
   "cell_type": "markdown",
   "id": "d0ea68ea",
   "metadata": {
    "papermill": {
     "duration": 0.073589,
     "end_time": "2021-10-06T23:16:45.053400",
     "exception": false,
     "start_time": "2021-10-06T23:16:44.979811",
     "status": "completed"
    },
    "tags": []
   },
   "source": [
    "**XGBoost algorithm (extreme gradient boosting )**\n",
    "\n",
    "XGBoost is an implementation of gradient boosted decision trees designed for speed and performance."
   ]
  },
  {
   "cell_type": "code",
   "execution_count": 19,
   "id": "aeac2da4",
   "metadata": {
    "execution": {
     "iopub.execute_input": "2021-10-06T23:16:45.197699Z",
     "iopub.status.busy": "2021-10-06T23:16:45.196419Z",
     "iopub.status.idle": "2021-10-06T23:16:49.174219Z",
     "shell.execute_reply": "2021-10-06T23:16:49.173559Z",
     "shell.execute_reply.started": "2021-10-06T23:15:06.499490Z"
    },
    "papermill": {
     "duration": 4.053536,
     "end_time": "2021-10-06T23:16:49.174393",
     "exception": false,
     "start_time": "2021-10-06T23:16:45.120857",
     "status": "completed"
    },
    "tags": []
   },
   "outputs": [
    {
     "name": "stdout",
     "output_type": "stream",
     "text": [
      "[23:16:49] WARNING: ../src/learner.cc:1095: Starting in XGBoost 1.3.0, the default evaluation metric used with the objective 'binary:logistic' was changed from 'error' to 'logloss'. Explicitly set eval_metric if you'd like to restore the old behavior.\n"
     ]
    },
    {
     "data": {
      "text/plain": [
       "XGBClassifier(base_score=0.5, booster='gbtree', colsample_bylevel=1,\n",
       "              colsample_bynode=1, colsample_bytree=1, gamma=0, gpu_id=-1,\n",
       "              importance_type='gain', interaction_constraints='',\n",
       "              learning_rate=0.300000012, max_delta_step=0, max_depth=6,\n",
       "              min_child_weight=1, missing=nan, monotone_constraints='()',\n",
       "              n_estimators=100, n_jobs=2, num_parallel_tree=1, random_state=0,\n",
       "              reg_alpha=0, reg_lambda=1, scale_pos_weight=1, subsample=1,\n",
       "              tree_method='exact', validate_parameters=1, verbosity=None)"
      ]
     },
     "execution_count": 19,
     "metadata": {},
     "output_type": "execute_result"
    }
   ],
   "source": [
    "#Train the model\n",
    "model_xgboost=XGBClassifier()\n",
    "model_xgboost.fit(x_train,y_train)"
   ]
  },
  {
   "cell_type": "markdown",
   "id": "0bfde3bc",
   "metadata": {
    "papermill": {
     "duration": 0.071823,
     "end_time": "2021-10-06T23:16:49.325165",
     "exception": false,
     "start_time": "2021-10-06T23:16:49.253342",
     "status": "completed"
    },
    "tags": []
   },
   "source": [
    "Make predictions and evaluate model"
   ]
  },
  {
   "cell_type": "code",
   "execution_count": 20,
   "id": "0023aae5",
   "metadata": {
    "execution": {
     "iopub.execute_input": "2021-10-06T23:16:49.486442Z",
     "iopub.status.busy": "2021-10-06T23:16:49.485406Z",
     "iopub.status.idle": "2021-10-06T23:16:49.510399Z",
     "shell.execute_reply": "2021-10-06T23:16:49.511739Z",
     "shell.execute_reply.started": "2021-10-06T23:15:09.347785Z"
    },
    "papermill": {
     "duration": 0.113943,
     "end_time": "2021-10-06T23:16:49.512007",
     "exception": false,
     "start_time": "2021-10-06T23:16:49.398064",
     "status": "completed"
    },
    "tags": []
   },
   "outputs": [
    {
     "name": "stdout",
     "output_type": "stream",
     "text": [
      "evaluation of the train dataset 100.0\n",
      "the accuracy of the model 82.05128205128204\n",
      "Confusion matrix : \n",
      " [[ 6  2]\n",
      " [ 5 26]]\n",
      "Outcome values : \n",
      " 6 2 5 26\n",
      "Classification report : \n",
      "               precision    recall  f1-score   support\n",
      "\n",
      "           0       0.55      0.75      0.63         8\n",
      "           1       0.93      0.84      0.88        31\n",
      "\n",
      "    accuracy                           0.82        39\n",
      "   macro avg       0.74      0.79      0.76        39\n",
      "weighted avg       0.85      0.82      0.83        39\n",
      "\n"
     ]
    }
   ],
   "source": [
    "pred_xgboost_tr = model_xgboost.predict(x_train)\n",
    "# evaluate on the train dataset\n",
    "train_acc = accuracy_score(y_train,pred_xgboost_tr)*100\n",
    "print('evaluation of the train dataset',train_acc)\n",
    "\n",
    "# ********** evaluate model ********** \n",
    "\n",
    "pred_xgboost=model_xgboost.predict(x_test)\n",
    "\n",
    "#accuracy metrix\n",
    "test_acc=accuracy_score(y_test,pred_xgboost)*100\n",
    "print('the accuracy of the model',test_acc)\n",
    "\n",
    "# confusion matrix\n",
    "c_matrix = confusion_matrix(y_test,pred_xgboost)\n",
    "print('Confusion matrix : \\n',c_matrix)\n",
    "\n",
    "# outcome values order in sklearn\n",
    "tp, fn, fp, tn = confusion_matrix(y_test,pred_xgboost).ravel()\n",
    "print('Outcome values : \\n', tp, fn, fp, tn)\n",
    "\n",
    "# classification report for precision, recall f1-score and accuracy\n",
    "cl_rep = classification_report(y_test,pred_xgboost)\n",
    "print('Classification report : \\n',cl_rep)\n",
    "#print(model_scores(model, pred_xgboost))\n",
    "\n",
    " "
   ]
  },
  {
   "cell_type": "code",
   "execution_count": 21,
   "id": "f50a152a",
   "metadata": {
    "execution": {
     "iopub.execute_input": "2021-10-06T23:16:49.697907Z",
     "iopub.status.busy": "2021-10-06T23:16:49.684349Z",
     "iopub.status.idle": "2021-10-06T23:16:49.978511Z",
     "shell.execute_reply": "2021-10-06T23:16:49.977839Z",
     "shell.execute_reply.started": "2021-10-06T23:15:09.372523Z"
    },
    "papermill": {
     "duration": 0.391842,
     "end_time": "2021-10-06T23:16:49.978704",
     "exception": false,
     "start_time": "2021-10-06T23:16:49.586862",
     "status": "completed"
    },
    "tags": []
   },
   "outputs": [
    {
     "data": {
      "image/png": "[encoded data removed]",
      "text/plain": [
       "<Figure size 432x288 with 2 Axes>"
      ]
     },
     "metadata": {
      "needs_background": "light"
     },
     "output_type": "display_data"
    }
   ],
   "source": [
    "sns.heatmap(c_matrix, annot=True,cmap='Blues')\n",
    "plt.title('The confusion matrix')\n",
    "plt.xlabel('predicted values')\n",
    "plt.ylabel('actual values')\n",
    "plt.show()"
   ]
  },
  {
   "cell_type": "markdown",
   "id": "f424e254",
   "metadata": {
    "papermill": {
     "duration": 0.07261,
     "end_time": "2021-10-06T23:16:50.124749",
     "exception": false,
     "start_time": "2021-10-06T23:16:50.052139",
     "status": "completed"
    },
    "tags": []
   },
   "source": [
    "**KNN algorithm**  "
   ]
  },
  {
   "cell_type": "code",
   "execution_count": 22,
   "id": "ccc4128b",
   "metadata": {
    "execution": {
     "iopub.execute_input": "2021-10-06T23:16:50.292403Z",
     "iopub.status.busy": "2021-10-06T23:16:50.291121Z",
     "iopub.status.idle": "2021-10-06T23:16:50.792496Z",
     "shell.execute_reply": "2021-10-06T23:16:50.793716Z",
     "shell.execute_reply.started": "2021-10-06T23:15:09.601045Z"
    },
    "papermill": {
     "duration": 0.593529,
     "end_time": "2021-10-06T23:16:50.794033",
     "exception": false,
     "start_time": "2021-10-06T23:16:50.200504",
     "status": "completed"
    },
    "tags": []
   },
   "outputs": [
    {
     "name": "stdout",
     "output_type": "stream",
     "text": [
      "Max test score 94.87179487179486 and k = [11]\n"
     ]
    }
   ],
   "source": [
    "from sklearn.neighbors import KNeighborsClassifier\n",
    "#determine the optimum value of k \n",
    "train_score = []\n",
    "test_score = []\n",
    "k_vals = []\n",
    "\n",
    "for k in range(1, 21):\n",
    "    k_vals.append(k)\n",
    "    mod_knn = KNeighborsClassifier(n_neighbors = k)\n",
    "    mod_knn.fit(x_train, y_train)\n",
    "    \n",
    "    tr_score = mod_knn.score(x_train, y_train)\n",
    "    train_score.append(tr_score)\n",
    "    \n",
    "    te_score = mod_knn.score(x_test, y_test)\n",
    "    test_score.append(te_score)\n",
    "## score that comes from the testing set only\n",
    "max_test_score = max(test_score)\n",
    "test_scores_ind = [i for i, v in enumerate(test_score) if v == max_test_score]\n",
    "print('Max test score {} and k = {}'.format(max_test_score * 100, list(map(lambda x: x + 1, test_scores_ind))))\n",
    " "
   ]
  },
  {
   "cell_type": "markdown",
   "id": "a197df66",
   "metadata": {
    "papermill": {
     "duration": 0.064577,
     "end_time": "2021-10-06T23:16:50.928994",
     "exception": false,
     "start_time": "2021-10-06T23:16:50.864417",
     "status": "completed"
    },
    "tags": []
   },
   "source": [
    "we have obtained the optimum value of k to be 11 with a score of 94.87. Now,we will fit the model"
   ]
  },
  {
   "cell_type": "code",
   "execution_count": 23,
   "id": "847d06e9",
   "metadata": {
    "execution": {
     "iopub.execute_input": "2021-10-06T23:16:51.075551Z",
     "iopub.status.busy": "2021-10-06T23:16:51.074177Z",
     "iopub.status.idle": "2021-10-06T23:16:51.085967Z",
     "shell.execute_reply": "2021-10-06T23:16:51.086709Z",
     "shell.execute_reply.started": "2021-10-06T23:15:09.955602Z"
    },
    "papermill": {
     "duration": 0.095468,
     "end_time": "2021-10-06T23:16:51.086945",
     "exception": false,
     "start_time": "2021-10-06T23:16:50.991477",
     "status": "completed"
    },
    "tags": []
   },
   "outputs": [
    {
     "data": {
      "text/plain": [
       "0.9487179487179487"
      ]
     },
     "execution_count": 23,
     "metadata": {},
     "output_type": "execute_result"
    }
   ],
   "source": [
    "model_knn = KNeighborsClassifier(11)\n",
    "\n",
    "model_knn.fit(x_train, y_train)\n",
    "model_knn.score(x_test, y_test)"
   ]
  },
  {
   "cell_type": "code",
   "execution_count": 24,
   "id": "a774d475",
   "metadata": {
    "execution": {
     "iopub.execute_input": "2021-10-06T23:16:51.245492Z",
     "iopub.status.busy": "2021-10-06T23:16:51.244265Z",
     "iopub.status.idle": "2021-10-06T23:16:51.261924Z",
     "shell.execute_reply": "2021-10-06T23:16:51.262554Z",
     "shell.execute_reply.started": "2021-10-06T23:15:09.969462Z"
    },
    "papermill": {
     "duration": 0.099499,
     "end_time": "2021-10-06T23:16:51.262780",
     "exception": false,
     "start_time": "2021-10-06T23:16:51.163281",
     "status": "completed"
    },
    "tags": []
   },
   "outputs": [
    {
     "name": "stdout",
     "output_type": "stream",
     "text": [
      "the accuracy of the model 94.87179487179486\n",
      "Confusion matrix : \n",
      " [[ 7  1]\n",
      " [ 1 30]]\n",
      "Outcome values : \n",
      " 7 1 1 30\n",
      "Classification report : \n",
      "               precision    recall  f1-score   support\n",
      "\n",
      "           0       0.88      0.88      0.88         8\n",
      "           1       0.97      0.97      0.97        31\n",
      "\n",
      "    accuracy                           0.95        39\n",
      "   macro avg       0.92      0.92      0.92        39\n",
      "weighted avg       0.95      0.95      0.95        39\n",
      "\n"
     ]
    }
   ],
   "source": [
    "pred_knn=model_knn.predict(x_test)\n",
    "#print(accuracy_score(y_test, y_pred)*100)\n",
    "\n",
    "#accuracy metrix\n",
    "test_acc=accuracy_score(y_test,pred_knn)*100\n",
    "print('the accuracy of the model',test_acc)\n",
    "\n",
    "c_matrix = confusion_matrix(y_test,pred_knn)\n",
    "print('Confusion matrix : \\n',c_matrix)\n",
    "\n",
    "# outcome values order in sklearn\n",
    "tp, fn, fp, tn = confusion_matrix(y_test,pred_knn).reshape(-1)\n",
    "print('Outcome values : \\n', tp, fn, fp, tn)\n",
    "\n",
    "# classification report for precision, recall f1-score and accuracy\n",
    "cl_rep = classification_report(y_test,pred_knn)\n",
    "print('Classification report : \\n',cl_rep)"
   ]
  },
  {
   "cell_type": "code",
   "execution_count": 25,
   "id": "6ea4aa29",
   "metadata": {
    "execution": {
     "iopub.execute_input": "2021-10-06T23:16:51.448651Z",
     "iopub.status.busy": "2021-10-06T23:16:51.447315Z",
     "iopub.status.idle": "2021-10-06T23:16:51.782937Z",
     "shell.execute_reply": "2021-10-06T23:16:51.782215Z",
     "shell.execute_reply.started": "2021-10-06T23:15:09.988505Z"
    },
    "papermill": {
     "duration": 0.446244,
     "end_time": "2021-10-06T23:16:51.783122",
     "exception": false,
     "start_time": "2021-10-06T23:16:51.336878",
     "status": "completed"
    },
    "tags": []
   },
   "outputs": [
    {
     "data": {
      "image/png": "[encoded data removed]",
      "text/plain": [
       "<Figure size 432x288 with 2 Axes>"
      ]
     },
     "metadata": {
      "needs_background": "light"
     },
     "output_type": "display_data"
    }
   ],
   "source": [
    "sns.heatmap(c_matrix, annot=True,cmap='Blues')\n",
    "plt.title('The confusion matrix')\n",
    "plt.xlabel('predicted values')\n",
    "plt.ylabel('actual values')\n",
    "plt.show()"
   ]
  },
  {
   "cell_type": "markdown",
   "id": "c1966d0e",
   "metadata": {
    "papermill": {
     "duration": 0.078523,
     "end_time": "2021-10-06T23:16:51.944648",
     "exception": false,
     "start_time": "2021-10-06T23:16:51.866125",
     "status": "completed"
    },
    "tags": []
   },
   "source": [
    "**SVM algorithm**"
   ]
  },
  {
   "cell_type": "code",
   "execution_count": 26,
   "id": "5febce9f",
   "metadata": {
    "execution": {
     "iopub.execute_input": "2021-10-06T23:16:52.104959Z",
     "iopub.status.busy": "2021-10-06T23:16:52.103849Z",
     "iopub.status.idle": "2021-10-06T23:16:52.112257Z",
     "shell.execute_reply": "2021-10-06T23:16:52.111595Z",
     "shell.execute_reply.started": "2021-10-06T23:15:10.311353Z"
    },
    "papermill": {
     "duration": 0.089829,
     "end_time": "2021-10-06T23:16:52.112422",
     "exception": false,
     "start_time": "2021-10-06T23:16:52.022593",
     "status": "completed"
    },
    "tags": []
   },
   "outputs": [
    {
     "data": {
      "text/plain": [
       "SVC()"
      ]
     },
     "execution_count": 26,
     "metadata": {},
     "output_type": "execute_result"
    }
   ],
   "source": [
    "from sklearn.svm import SVC\n",
    "\n",
    "model_svm = SVC()\n",
    "model_svm.fit(x_train, y_train)"
   ]
  },
  {
   "cell_type": "code",
   "execution_count": 27,
   "id": "449b68ea",
   "metadata": {
    "execution": {
     "iopub.execute_input": "2021-10-06T23:16:52.270261Z",
     "iopub.status.busy": "2021-10-06T23:16:52.265873Z",
     "iopub.status.idle": "2021-10-06T23:16:52.285218Z",
     "shell.execute_reply": "2021-10-06T23:16:52.285997Z",
     "shell.execute_reply.started": "2021-10-06T23:15:10.327802Z"
    },
    "papermill": {
     "duration": 0.097347,
     "end_time": "2021-10-06T23:16:52.286209",
     "exception": false,
     "start_time": "2021-10-06T23:16:52.188862",
     "status": "completed"
    },
    "tags": []
   },
   "outputs": [
    {
     "name": "stdout",
     "output_type": "stream",
     "text": [
      "the accuracy of the model 87.17948717948718\n",
      "Confusion matrix : \n",
      " [[ 3  5]\n",
      " [ 0 31]]\n",
      "Outcome values : \n",
      " 3 5 0 31\n",
      "Classification report : \n",
      "               precision    recall  f1-score   support\n",
      "\n",
      "           0       1.00      0.38      0.55         8\n",
      "           1       0.86      1.00      0.93        31\n",
      "\n",
      "    accuracy                           0.87        39\n",
      "   macro avg       0.93      0.69      0.74        39\n",
      "weighted avg       0.89      0.87      0.85        39\n",
      "\n"
     ]
    }
   ],
   "source": [
    "pred_svm = model_svm.predict(x_test)\n",
    "#accuracy metrix\n",
    "test_acc=accuracy_score(y_test,pred_svm)*100\n",
    "print('the accuracy of the model',test_acc)\n",
    "\n",
    "c_matrix = confusion_matrix(y_test,pred_svm)\n",
    "print('Confusion matrix : \\n',c_matrix)\n",
    "\n",
    "# outcome values order in sklearn\n",
    "tp, fn, fp, tn = confusion_matrix(y_test,pred_svm).reshape(-1)\n",
    "print('Outcome values : \\n', tp, fn, fp, tn)\n",
    "\n",
    "# classification report for precision, recall f1-score and accuracy\n",
    "cl_rep = classification_report(y_test,pred_svm)\n",
    "print('Classification report : \\n',cl_rep)"
   ]
  },
  {
   "cell_type": "code",
   "execution_count": 28,
   "id": "5e69b5ed",
   "metadata": {
    "execution": {
     "iopub.execute_input": "2021-10-06T23:16:52.473707Z",
     "iopub.status.busy": "2021-10-06T23:16:52.472316Z",
     "iopub.status.idle": "2021-10-06T23:16:52.800920Z",
     "shell.execute_reply": "2021-10-06T23:16:52.800244Z",
     "shell.execute_reply.started": "2021-10-06T23:15:10.359198Z"
    },
    "papermill": {
     "duration": 0.439645,
     "end_time": "2021-10-06T23:16:52.801108",
     "exception": false,
     "start_time": "2021-10-06T23:16:52.361463",
     "status": "completed"
    },
    "tags": []
   },
   "outputs": [
    {
     "data": {
      "image/png": "[encoded data removed]",
      "text/plain": [
       "<Figure size 432x288 with 2 Axes>"
      ]
     },
     "metadata": {
      "needs_background": "light"
     },
     "output_type": "display_data"
    }
   ],
   "source": [
    "#Draw Confusion Matrix \n",
    "sns.heatmap(c_matrix, annot=True,cmap='Blues')\n",
    "plt.title('The confusion matrix')\n",
    "plt.xlabel('predicted values')\n",
    "plt.ylabel('actual values')\n",
    "plt.show()"
   ]
  },
  {
   "cell_type": "code",
   "execution_count": 29,
   "id": "4b515fee",
   "metadata": {
    "execution": {
     "iopub.execute_input": "2021-10-06T23:16:52.973213Z",
     "iopub.status.busy": "2021-10-06T23:16:52.971651Z",
     "iopub.status.idle": "2021-10-06T23:16:52.974381Z",
     "shell.execute_reply": "2021-10-06T23:16:52.975050Z",
     "shell.execute_reply.started": "2021-10-06T23:15:10.706384Z"
    },
    "papermill": {
     "duration": 0.095255,
     "end_time": "2021-10-06T23:16:52.975273",
     "exception": false,
     "start_time": "2021-10-06T23:16:52.880018",
     "status": "completed"
    },
    "tags": []
   },
   "outputs": [],
   "source": [
    "input_data=(244.99000,272.21000,239.17000,0.00451,0.00002,0.00279,0.00237,0.00837,0.01897,0.18100,0.01084,0.01121,0.01255,0.03253,0.01049,21.52800,0.522812,0.646818,-7.304500,0.171088,2.095237,0.096220)\n",
    "\n",
    "#change input datato  numpy array\n",
    "input_data_array =np.asarray(input_data)\n",
    "\n",
    "#reshape\n",
    "input_data_reshape = input_data_array.reshape(1, -1)\n",
    "\n",
    "#standardize data\n",
    "sca_data =scaler.transform(input_data_reshape)"
   ]
  },
  {
   "cell_type": "code",
   "execution_count": 30,
   "id": "8802dbc7",
   "metadata": {
    "execution": {
     "iopub.execute_input": "2021-10-06T23:16:53.153601Z",
     "iopub.status.busy": "2021-10-06T23:16:53.152294Z",
     "iopub.status.idle": "2021-10-06T23:16:53.156932Z",
     "shell.execute_reply": "2021-10-06T23:16:53.157928Z",
     "shell.execute_reply.started": "2021-10-06T23:15:10.714575Z"
    },
    "papermill": {
     "duration": 0.098539,
     "end_time": "2021-10-06T23:16:53.158237",
     "exception": false,
     "start_time": "2021-10-06T23:16:53.059698",
     "status": "completed"
    },
    "tags": []
   },
   "outputs": [
    {
     "name": "stdout",
     "output_type": "stream",
     "text": [
      "[0]\n",
      "The patient does not have Parkinson\n"
     ]
    }
   ],
   "source": [
    "#predict\n",
    "prediction = mod_knn.predict(sca_data)\n",
    "print(prediction)\n",
    " \n",
    "\n",
    "if (prediction[0] == 1):\n",
    "  print('The patient has Parkinson')\n",
    "elif (prediction[0] == 0):\n",
    "  print('The patient does not have Parkinson')\n",
    "else:\n",
    "  print('error in processing')"
   ]
  },
  {
   "cell_type": "code",
   "execution_count": 31,
   "id": "244623be",
   "metadata": {
    "execution": {
     "iopub.execute_input": "2021-10-06T23:16:53.330569Z",
     "iopub.status.busy": "2021-10-06T23:16:53.329482Z",
     "iopub.status.idle": "2021-10-06T23:16:53.333921Z",
     "shell.execute_reply": "2021-10-06T23:16:53.334801Z",
     "shell.execute_reply.started": "2021-10-06T23:15:10.734229Z"
    },
    "papermill": {
     "duration": 0.092368,
     "end_time": "2021-10-06T23:16:53.335092",
     "exception": false,
     "start_time": "2021-10-06T23:16:53.242724",
     "status": "completed"
    },
    "tags": []
   },
   "outputs": [
    {
     "name": "stdout",
     "output_type": "stream",
     "text": [
      "[0]\n",
      "The patient does not have Parkinson\n"
     ]
    }
   ],
   "source": [
    "#predict\n",
    "prediction = model_svm.predict(sca_data)\n",
    "print(prediction)\n",
    " \n",
    "\n",
    "if (prediction[0] == 1):\n",
    "  print('The patient has Parkinson')\n",
    "elif (prediction[0] == 0):\n",
    "  print('The patient does not have Parkinson')\n",
    "else:\n",
    "  print('error in processing')"
   ]
  },
  {
   "cell_type": "code",
   "execution_count": 32,
   "id": "52ef04c0",
   "metadata": {
    "execution": {
     "iopub.execute_input": "2021-10-06T23:16:53.497958Z",
     "iopub.status.busy": "2021-10-06T23:16:53.494061Z",
     "iopub.status.idle": "2021-10-06T23:16:53.510096Z",
     "shell.execute_reply": "2021-10-06T23:16:53.511098Z",
     "shell.execute_reply.started": "2021-10-06T23:15:10.749019Z"
    },
    "papermill": {
     "duration": 0.098644,
     "end_time": "2021-10-06T23:16:53.511403",
     "exception": false,
     "start_time": "2021-10-06T23:16:53.412759",
     "status": "completed"
    },
    "tags": []
   },
   "outputs": [
    {
     "name": "stdout",
     "output_type": "stream",
     "text": [
      "[0]\n",
      "The patient does not have Parkinson\n"
     ]
    }
   ],
   "source": [
    "#predict\n",
    "prediction = model_xgboost.predict(sca_data)\n",
    "print(prediction)\n",
    " \n",
    "\n",
    "if (prediction[0] == 1):\n",
    "  print('The patient has Parkinson')\n",
    "elif (prediction[0] == 0):\n",
    "  print('The patient does not have Parkinson')\n",
    "else:\n",
    "  print('error in processing')"
   ]
  },
  {
   "cell_type": "code",
   "execution_count": 33,
   "id": "57501ce3",
   "metadata": {
    "execution": {
     "iopub.execute_input": "2021-10-06T23:16:53.663998Z",
     "iopub.status.busy": "2021-10-06T23:16:53.662845Z",
     "iopub.status.idle": "2021-10-06T23:16:53.665576Z",
     "shell.execute_reply": "2021-10-06T23:16:53.664953Z",
     "shell.execute_reply.started": "2021-10-06T23:15:10.771827Z"
    },
    "papermill": {
     "duration": 0.076796,
     "end_time": "2021-10-06T23:16:53.665738",
     "exception": false,
     "start_time": "2021-10-06T23:16:53.588942",
     "status": "completed"
    },
    "tags": []
   },
   "outputs": [],
   "source": [
    "#print(x_train.shape)"
   ]
  },
  {
   "cell_type": "markdown",
   "id": "2a3b7327",
   "metadata": {
    "papermill": {
     "duration": 0.086428,
     "end_time": "2021-10-06T23:16:53.826548",
     "exception": false,
     "start_time": "2021-10-06T23:16:53.740120",
     "status": "completed"
    },
    "tags": []
   },
   "source": [
    "**DNN Model**"
   ]
  },
  {
   "cell_type": "code",
   "execution_count": 34,
   "id": "49f15e92",
   "metadata": {
    "execution": {
     "iopub.execute_input": "2021-10-06T23:16:53.971279Z",
     "iopub.status.busy": "2021-10-06T23:16:53.970491Z",
     "iopub.status.idle": "2021-10-06T23:17:00.372936Z",
     "shell.execute_reply": "2021-10-06T23:17:00.373617Z",
     "shell.execute_reply.started": "2021-10-06T23:15:10.782058Z"
    },
    "papermill": {
     "duration": 6.474827,
     "end_time": "2021-10-06T23:17:00.373834",
     "exception": false,
     "start_time": "2021-10-06T23:16:53.899007",
     "status": "completed"
    },
    "tags": []
   },
   "outputs": [
    {
     "name": "stderr",
     "output_type": "stream",
     "text": [
      "2021-10-06 23:16:54.700928: I tensorflow/stream_executor/platform/default/dso_loader.cc:49] Successfully opened dynamic library libcudart.so.11.0\n"
     ]
    },
    {
     "name": "stdout",
     "output_type": "stream",
     "text": [
      "all packages are imported\n"
     ]
    }
   ],
   "source": [
    "import tensorflow\n",
    "from tensorflow.keras.models import Sequential\n",
    "from tensorflow.keras.layers import Dense, Dropout \n",
    "\n",
    "print('all packages are imported')"
   ]
  },
  {
   "cell_type": "code",
   "execution_count": 35,
   "id": "56d94f07",
   "metadata": {
    "execution": {
     "iopub.execute_input": "2021-10-06T23:17:00.537932Z",
     "iopub.status.busy": "2021-10-06T23:17:00.533026Z",
     "iopub.status.idle": "2021-10-06T23:17:05.710927Z",
     "shell.execute_reply": "2021-10-06T23:17:05.709669Z",
     "shell.execute_reply.started": "2021-10-06T23:15:14.888794Z"
    },
    "papermill": {
     "duration": 5.259961,
     "end_time": "2021-10-06T23:17:05.711122",
     "exception": false,
     "start_time": "2021-10-06T23:17:00.451161",
     "status": "completed"
    },
    "tags": []
   },
   "outputs": [
    {
     "name": "stderr",
     "output_type": "stream",
     "text": [
      "2021-10-06 23:17:00.562315: I tensorflow/compiler/jit/xla_cpu_device.cc:41] Not creating XLA devices, tf_xla_enable_xla_devices not set\n",
      "2021-10-06 23:17:00.564942: I tensorflow/stream_executor/platform/default/dso_loader.cc:49] Successfully opened dynamic library libcuda.so.1\n",
      "2021-10-06 23:17:00.567259: I tensorflow/stream_executor/cuda/cuda_gpu_executor.cc:941] successful NUMA node read from SysFS had negative value (-1), but there must be at least one NUMA node, so returning NUMA node zero\n",
      "2021-10-06 23:17:00.568307: I tensorflow/core/common_runtime/gpu/gpu_device.cc:1720] Found device 0 with properties: \n",
      "pciBusID: 0000:00:04.0 name: Tesla P100-PCIE-16GB computeCapability: 6.0\n",
      "coreClock: 1.3285GHz coreCount: 56 deviceMemorySize: 15.90GiB deviceMemoryBandwidth: 681.88GiB/s\n",
      "2021-10-06 23:17:00.568414: I tensorflow/stream_executor/platform/default/dso_loader.cc:49] Successfully opened dynamic library libcudart.so.11.0\n",
      "2021-10-06 23:17:00.568513: I tensorflow/stream_executor/platform/default/dso_loader.cc:49] Successfully opened dynamic library libcublas.so.11\n",
      "2021-10-06 23:17:00.568561: I tensorflow/stream_executor/platform/default/dso_loader.cc:49] Successfully opened dynamic library libcublasLt.so.11\n",
      "2021-10-06 23:17:00.568636: I tensorflow/stream_executor/platform/default/dso_loader.cc:49] Successfully opened dynamic library libcufft.so.10\n",
      "2021-10-06 23:17:00.568685: I tensorflow/stream_executor/platform/default/dso_loader.cc:49] Successfully opened dynamic library libcurand.so.10\n",
      "2021-10-06 23:17:00.568730: I tensorflow/stream_executor/platform/default/dso_loader.cc:49] Successfully opened dynamic library libcusolver.so.10\n",
      "2021-10-06 23:17:00.568774: I tensorflow/stream_executor/platform/default/dso_loader.cc:49] Successfully opened dynamic library libcusparse.so.11\n",
      "2021-10-06 23:17:00.568818: I tensorflow/stream_executor/platform/default/dso_loader.cc:49] Successfully opened dynamic library libcudnn.so.8\n",
      "2021-10-06 23:17:00.568976: I tensorflow/stream_executor/cuda/cuda_gpu_executor.cc:941] successful NUMA node read from SysFS had negative value (-1), but there must be at least one NUMA node, so returning NUMA node zero\n",
      "2021-10-06 23:17:00.569860: I tensorflow/stream_executor/cuda/cuda_gpu_executor.cc:941] successful NUMA node read from SysFS had negative value (-1), but there must be at least one NUMA node, so returning NUMA node zero\n",
      "2021-10-06 23:17:00.571990: I tensorflow/core/common_runtime/gpu/gpu_device.cc:1862] Adding visible gpu devices: 0\n",
      "2021-10-06 23:17:00.573782: I tensorflow/core/platform/cpu_feature_guard.cc:142] This TensorFlow binary is optimized with oneAPI Deep Neural Network Library (oneDNN) to use the following CPU instructions in performance-critical operations:  AVX2 AVX512F FMA\n",
      "To enable them in other operations, rebuild TensorFlow with the appropriate compiler flags.\n",
      "2021-10-06 23:17:00.574120: I tensorflow/compiler/jit/xla_gpu_device.cc:99] Not creating XLA devices, tf_xla_enable_xla_devices not set\n",
      "2021-10-06 23:17:00.574428: I tensorflow/stream_executor/cuda/cuda_gpu_executor.cc:941] successful NUMA node read from SysFS had negative value (-1), but there must be at least one NUMA node, so returning NUMA node zero\n",
      "2021-10-06 23:17:00.575294: I tensorflow/core/common_runtime/gpu/gpu_device.cc:1720] Found device 0 with properties: \n",
      "pciBusID: 0000:00:04.0 name: Tesla P100-PCIE-16GB computeCapability: 6.0\n",
      "coreClock: 1.3285GHz coreCount: 56 deviceMemorySize: 15.90GiB deviceMemoryBandwidth: 681.88GiB/s\n",
      "2021-10-06 23:17:00.575451: I tensorflow/stream_executor/platform/default/dso_loader.cc:49] Successfully opened dynamic library libcudart.so.11.0\n",
      "2021-10-06 23:17:00.575489: I tensorflow/stream_executor/platform/default/dso_loader.cc:49] Successfully opened dynamic library libcublas.so.11\n",
      "2021-10-06 23:17:00.575517: I tensorflow/stream_executor/platform/default/dso_loader.cc:49] Successfully opened dynamic library libcublasLt.so.11\n",
      "2021-10-06 23:17:00.575558: I tensorflow/stream_executor/platform/default/dso_loader.cc:49] Successfully opened dynamic library libcufft.so.10\n",
      "2021-10-06 23:17:00.575586: I tensorflow/stream_executor/platform/default/dso_loader.cc:49] Successfully opened dynamic library libcurand.so.10\n",
      "2021-10-06 23:17:00.575648: I tensorflow/stream_executor/platform/default/dso_loader.cc:49] Successfully opened dynamic library libcusolver.so.10\n",
      "2021-10-06 23:17:00.575689: I tensorflow/stream_executor/platform/default/dso_loader.cc:49] Successfully opened dynamic library libcusparse.so.11\n",
      "2021-10-06 23:17:00.575720: I tensorflow/stream_executor/platform/default/dso_loader.cc:49] Successfully opened dynamic library libcudnn.so.8\n",
      "2021-10-06 23:17:00.575871: I tensorflow/stream_executor/cuda/cuda_gpu_executor.cc:941] successful NUMA node read from SysFS had negative value (-1), but there must be at least one NUMA node, so returning NUMA node zero\n",
      "2021-10-06 23:17:00.576762: I tensorflow/stream_executor/cuda/cuda_gpu_executor.cc:941] successful NUMA node read from SysFS had negative value (-1), but there must be at least one NUMA node, so returning NUMA node zero\n",
      "2021-10-06 23:17:00.577506: I tensorflow/core/common_runtime/gpu/gpu_device.cc:1862] Adding visible gpu devices: 0\n",
      "2021-10-06 23:17:00.578525: I tensorflow/stream_executor/platform/default/dso_loader.cc:49] Successfully opened dynamic library libcudart.so.11.0\n",
      "2021-10-06 23:17:05.208959: I tensorflow/core/common_runtime/gpu/gpu_device.cc:1261] Device interconnect StreamExecutor with strength 1 edge matrix:\n",
      "2021-10-06 23:17:05.209028: I tensorflow/core/common_runtime/gpu/gpu_device.cc:1267]      0 \n",
      "2021-10-06 23:17:05.209044: I tensorflow/core/common_runtime/gpu/gpu_device.cc:1280] 0:   N \n",
      "2021-10-06 23:17:05.212382: I tensorflow/stream_executor/cuda/cuda_gpu_executor.cc:941] successful NUMA node read from SysFS had negative value (-1), but there must be at least one NUMA node, so returning NUMA node zero\n",
      "2021-10-06 23:17:05.213760: I tensorflow/stream_executor/cuda/cuda_gpu_executor.cc:941] successful NUMA node read from SysFS had negative value (-1), but there must be at least one NUMA node, so returning NUMA node zero\n",
      "2021-10-06 23:17:05.214921: I tensorflow/stream_executor/cuda/cuda_gpu_executor.cc:941] successful NUMA node read from SysFS had negative value (-1), but there must be at least one NUMA node, so returning NUMA node zero\n",
      "2021-10-06 23:17:05.215865: I tensorflow/core/common_runtime/gpu/gpu_device.cc:1406] Created TensorFlow device (/job:localhost/replica:0/task:0/device:GPU:0 with 14740 MB memory) -> physical GPU (device: 0, name: Tesla P100-PCIE-16GB, pci bus id: 0000:00:04.0, compute capability: 6.0)\n"
     ]
    },
    {
     "name": "stdout",
     "output_type": "stream",
     "text": [
      "Model: \"sequential\"\n",
      "_________________________________________________________________\n",
      "Layer (type)                 Output Shape              Param #   \n",
      "=================================================================\n",
      "dense (Dense)                (None, 64)                1472      \n",
      "_________________________________________________________________\n",
      "dense_1 (Dense)              (None, 32)                2080      \n",
      "_________________________________________________________________\n",
      "dropout (Dropout)            (None, 32)                0         \n",
      "_________________________________________________________________\n",
      "dense_2 (Dense)              (None, 16)                528       \n",
      "_________________________________________________________________\n",
      "dropout_1 (Dropout)          (None, 16)                0         \n",
      "_________________________________________________________________\n",
      "dense_3 (Dense)              (None, 8)                 136       \n",
      "_________________________________________________________________\n",
      "dropout_2 (Dropout)          (None, 8)                 0         \n",
      "_________________________________________________________________\n",
      "dense_4 (Dense)              (None, 1)                 9         \n",
      "=================================================================\n",
      "Total params: 4,225\n",
      "Trainable params: 4,225\n",
      "Non-trainable params: 0\n",
      "_________________________________________________________________\n"
     ]
    }
   ],
   "source": [
    "model_DNN=tensorflow.keras.models.Sequential([\n",
    "    Dense(64,input_shape=(x_train.shape[1],),activation='relu'), \n",
    "     \n",
    "    Dense(32,activation='relu'),  \n",
    "    Dropout(0.5),\n",
    "     \n",
    "    \n",
    "    Dense(16,activation='relu'), \n",
    "    Dropout(0.5),\n",
    "     \n",
    "    \n",
    "    Dense(8,activation='relu'), \n",
    "    Dropout(0.5),\n",
    "     \n",
    "    Dense(1,activation='sigmoid')\n",
    "])\n",
    "model_DNN.summary()\n"
   ]
  },
  {
   "cell_type": "code",
   "execution_count": 36,
   "id": "3383ca33",
   "metadata": {
    "execution": {
     "iopub.execute_input": "2021-10-06T23:17:05.880763Z",
     "iopub.status.busy": "2021-10-06T23:17:05.879727Z",
     "iopub.status.idle": "2021-10-06T23:17:10.196135Z",
     "shell.execute_reply": "2021-10-06T23:17:10.196741Z",
     "shell.execute_reply.started": "2021-10-06T23:15:18.533573Z"
    },
    "papermill": {
     "duration": 4.411694,
     "end_time": "2021-10-06T23:17:10.196939",
     "exception": false,
     "start_time": "2021-10-06T23:17:05.785245",
     "status": "completed"
    },
    "tags": []
   },
   "outputs": [
    {
     "name": "stderr",
     "output_type": "stream",
     "text": [
      "2021-10-06 23:17:05.975959: I tensorflow/compiler/mlir/mlir_graph_optimization_pass.cc:116] None of the MLIR optimization passes are enabled (registered 2)\n",
      "2021-10-06 23:17:05.990801: I tensorflow/core/platform/profile_utils/cpu_utils.cc:112] CPU Frequency: 2000185000 Hz\n"
     ]
    },
    {
     "name": "stdout",
     "output_type": "stream",
     "text": [
      "Epoch 1/100\n"
     ]
    },
    {
     "name": "stderr",
     "output_type": "stream",
     "text": [
      "2021-10-06 23:17:06.811422: I tensorflow/stream_executor/platform/default/dso_loader.cc:49] Successfully opened dynamic library libcublas.so.11\n"
     ]
    },
    {
     "name": "stdout",
     "output_type": "stream",
     "text": [
      "3/3 [==============================] - 2s 6ms/step - loss: 0.7083 - accuracy: 0.5555\n",
      "Epoch 2/100\n",
      "3/3 [==============================] - 0s 6ms/step - loss: 0.7001 - accuracy: 0.5329\n",
      "Epoch 3/100\n",
      "3/3 [==============================] - 0s 7ms/step - loss: 0.6784 - accuracy: 0.5971\n",
      "Epoch 4/100\n",
      "3/3 [==============================] - 0s 7ms/step - loss: 0.7193 - accuracy: 0.4877\n",
      "Epoch 5/100\n",
      "1/3 [=========>....................] - ETA: 0s - loss: 0.7197 - accuracy: 0.4688"
     ]
    },
    {
     "name": "stderr",
     "output_type": "stream",
     "text": [
      "2021-10-06 23:17:07.899964: I tensorflow/stream_executor/platform/default/dso_loader.cc:49] Successfully opened dynamic library libcublasLt.so.11\n"
     ]
    },
    {
     "name": "stdout",
     "output_type": "stream",
     "text": [
      "3/3 [==============================] - 0s 7ms/step - loss: 0.7067 - accuracy: 0.5148\n",
      "Epoch 6/100\n",
      "3/3 [==============================] - 0s 6ms/step - loss: 0.6898 - accuracy: 0.5860\n",
      "Epoch 7/100\n",
      "3/3 [==============================] - 0s 6ms/step - loss: 0.6758 - accuracy: 0.5516\n",
      "Epoch 8/100\n",
      "3/3 [==============================] - 0s 6ms/step - loss: 0.6731 - accuracy: 0.6415\n",
      "Epoch 9/100\n",
      "3/3 [==============================] - 0s 6ms/step - loss: 0.6711 - accuracy: 0.5725\n",
      "Epoch 10/100\n",
      "3/3 [==============================] - 0s 5ms/step - loss: 0.7192 - accuracy: 0.6351\n",
      "Epoch 11/100\n",
      "3/3 [==============================] - 0s 6ms/step - loss: 0.6902 - accuracy: 0.5692\n",
      "Epoch 12/100\n",
      "3/3 [==============================] - 0s 7ms/step - loss: 0.7097 - accuracy: 0.5878\n",
      "Epoch 13/100\n",
      "3/3 [==============================] - 0s 6ms/step - loss: 0.6791 - accuracy: 0.5619\n",
      "Epoch 14/100\n",
      "3/3 [==============================] - 0s 6ms/step - loss: 0.6670 - accuracy: 0.6238\n",
      "Epoch 15/100\n",
      "3/3 [==============================] - 0s 7ms/step - loss: 0.6526 - accuracy: 0.6719\n",
      "Epoch 16/100\n",
      "3/3 [==============================] - 0s 6ms/step - loss: 0.6363 - accuracy: 0.6976\n",
      "Epoch 17/100\n",
      "3/3 [==============================] - 0s 7ms/step - loss: 0.7088 - accuracy: 0.5975\n",
      "Epoch 18/100\n",
      "3/3 [==============================] - 0s 7ms/step - loss: 0.6498 - accuracy: 0.6771\n",
      "Epoch 19/100\n",
      "3/3 [==============================] - 0s 5ms/step - loss: 0.6722 - accuracy: 0.6332\n",
      "Epoch 20/100\n",
      "3/3 [==============================] - 0s 7ms/step - loss: 0.6665 - accuracy: 0.6213\n",
      "Epoch 21/100\n",
      "3/3 [==============================] - 0s 7ms/step - loss: 0.6801 - accuracy: 0.6376\n",
      "Epoch 22/100\n",
      "3/3 [==============================] - 0s 6ms/step - loss: 0.6601 - accuracy: 0.6330\n",
      "Epoch 23/100\n",
      "3/3 [==============================] - 0s 7ms/step - loss: 0.6500 - accuracy: 0.6220\n",
      "Epoch 24/100\n",
      "3/3 [==============================] - 0s 6ms/step - loss: 0.6541 - accuracy: 0.6758\n",
      "Epoch 25/100\n",
      "3/3 [==============================] - 0s 7ms/step - loss: 0.6481 - accuracy: 0.6796\n",
      "Epoch 26/100\n",
      "3/3 [==============================] - 0s 6ms/step - loss: 0.6352 - accuracy: 0.7041\n",
      "Epoch 27/100\n",
      "3/3 [==============================] - 0s 7ms/step - loss: 0.6391 - accuracy: 0.6182\n",
      "Epoch 28/100\n",
      "3/3 [==============================] - 0s 5ms/step - loss: 0.6187 - accuracy: 0.6808\n",
      "Epoch 29/100\n",
      "3/3 [==============================] - 0s 6ms/step - loss: 0.6382 - accuracy: 0.7034\n",
      "Epoch 30/100\n",
      "3/3 [==============================] - 0s 5ms/step - loss: 0.6698 - accuracy: 0.6750\n",
      "Epoch 31/100\n",
      "3/3 [==============================] - 0s 5ms/step - loss: 0.6002 - accuracy: 0.7566\n",
      "Epoch 32/100\n",
      "3/3 [==============================] - 0s 5ms/step - loss: 0.6433 - accuracy: 0.6881\n",
      "Epoch 33/100\n",
      "3/3 [==============================] - 0s 6ms/step - loss: 0.6263 - accuracy: 0.6881\n",
      "Epoch 34/100\n",
      "3/3 [==============================] - 0s 6ms/step - loss: 0.6332 - accuracy: 0.7048\n",
      "Epoch 35/100\n",
      "3/3 [==============================] - 0s 6ms/step - loss: 0.6035 - accuracy: 0.7230\n",
      "Epoch 36/100\n",
      "3/3 [==============================] - 0s 6ms/step - loss: 0.6072 - accuracy: 0.7082\n",
      "Epoch 37/100\n",
      "3/3 [==============================] - 0s 5ms/step - loss: 0.6333 - accuracy: 0.7235\n",
      "Epoch 38/100\n",
      "3/3 [==============================] - 0s 7ms/step - loss: 0.6057 - accuracy: 0.7695\n",
      "Epoch 39/100\n",
      "3/3 [==============================] - 0s 6ms/step - loss: 0.6297 - accuracy: 0.7118\n",
      "Epoch 40/100\n",
      "3/3 [==============================] - 0s 7ms/step - loss: 0.6386 - accuracy: 0.7080\n",
      "Epoch 41/100\n",
      "3/3 [==============================] - 0s 6ms/step - loss: 0.6353 - accuracy: 0.6828\n",
      "Epoch 42/100\n",
      "3/3 [==============================] - 0s 7ms/step - loss: 0.6099 - accuracy: 0.7320\n",
      "Epoch 43/100\n",
      "3/3 [==============================] - 0s 5ms/step - loss: 0.6297 - accuracy: 0.7165\n",
      "Epoch 44/100\n",
      "3/3 [==============================] - 0s 5ms/step - loss: 0.6090 - accuracy: 0.7137\n",
      "Epoch 45/100\n",
      "3/3 [==============================] - 0s 5ms/step - loss: 0.5966 - accuracy: 0.7326\n",
      "Epoch 46/100\n",
      "3/3 [==============================] - 0s 5ms/step - loss: 0.5998 - accuracy: 0.7333\n",
      "Epoch 47/100\n",
      "3/3 [==============================] - 0s 6ms/step - loss: 0.6213 - accuracy: 0.7255\n",
      "Epoch 48/100\n",
      "3/3 [==============================] - 0s 6ms/step - loss: 0.5944 - accuracy: 0.7500\n",
      "Epoch 49/100\n",
      "3/3 [==============================] - 0s 5ms/step - loss: 0.6113 - accuracy: 0.7137\n",
      "Epoch 50/100\n",
      "3/3 [==============================] - 0s 5ms/step - loss: 0.6427 - accuracy: 0.7189\n",
      "Epoch 51/100\n",
      "3/3 [==============================] - 0s 6ms/step - loss: 0.6179 - accuracy: 0.7437\n",
      "Epoch 52/100\n",
      "3/3 [==============================] - 0s 5ms/step - loss: 0.5899 - accuracy: 0.7255\n",
      "Epoch 53/100\n",
      "3/3 [==============================] - 0s 5ms/step - loss: 0.6017 - accuracy: 0.7525\n",
      "Epoch 54/100\n",
      "3/3 [==============================] - 0s 5ms/step - loss: 0.6363 - accuracy: 0.7008\n",
      "Epoch 55/100\n",
      "3/3 [==============================] - 0s 5ms/step - loss: 0.6012 - accuracy: 0.7292\n",
      "Epoch 56/100\n",
      "3/3 [==============================] - 0s 5ms/step - loss: 0.6072 - accuracy: 0.7352\n",
      "Epoch 57/100\n",
      "3/3 [==============================] - 0s 6ms/step - loss: 0.5824 - accuracy: 0.7500\n",
      "Epoch 58/100\n",
      "3/3 [==============================] - 0s 5ms/step - loss: 0.6007 - accuracy: 0.7176\n",
      "Epoch 59/100\n",
      "3/3 [==============================] - 0s 7ms/step - loss: 0.6069 - accuracy: 0.7553\n",
      "Epoch 60/100\n",
      "3/3 [==============================] - 0s 6ms/step - loss: 0.6117 - accuracy: 0.7008\n",
      "Epoch 61/100\n",
      "3/3 [==============================] - 0s 5ms/step - loss: 0.6050 - accuracy: 0.7235\n",
      "Epoch 62/100\n",
      "3/3 [==============================] - 0s 7ms/step - loss: 0.5926 - accuracy: 0.7223\n",
      "Epoch 63/100\n",
      "3/3 [==============================] - 0s 6ms/step - loss: 0.6109 - accuracy: 0.7274\n",
      "Epoch 64/100\n",
      "3/3 [==============================] - 0s 6ms/step - loss: 0.6053 - accuracy: 0.7126\n",
      "Epoch 65/100\n",
      "3/3 [==============================] - 0s 6ms/step - loss: 0.5827 - accuracy: 0.7340\n",
      "Epoch 66/100\n",
      "3/3 [==============================] - 0s 6ms/step - loss: 0.5999 - accuracy: 0.7390\n",
      "Epoch 67/100\n",
      "3/3 [==============================] - 0s 7ms/step - loss: 0.5954 - accuracy: 0.7708\n",
      "Epoch 68/100\n",
      "3/3 [==============================] - 0s 5ms/step - loss: 0.5898 - accuracy: 0.7274\n",
      "Epoch 69/100\n",
      "3/3 [==============================] - 0s 6ms/step - loss: 0.6276 - accuracy: 0.7118\n",
      "Epoch 70/100\n",
      "3/3 [==============================] - 0s 6ms/step - loss: 0.6086 - accuracy: 0.7125\n",
      "Epoch 71/100\n",
      "3/3 [==============================] - 0s 7ms/step - loss: 0.5692 - accuracy: 0.7514\n",
      "Epoch 72/100\n",
      "3/3 [==============================] - 0s 5ms/step - loss: 0.5985 - accuracy: 0.7196\n",
      "Epoch 73/100\n",
      "3/3 [==============================] - 0s 6ms/step - loss: 0.5955 - accuracy: 0.7390\n",
      "Epoch 74/100\n",
      "3/3 [==============================] - 0s 5ms/step - loss: 0.5845 - accuracy: 0.7391\n",
      "Epoch 75/100\n",
      "3/3 [==============================] - 0s 6ms/step - loss: 0.6067 - accuracy: 0.7280\n",
      "Epoch 76/100\n",
      "3/3 [==============================] - 0s 6ms/step - loss: 0.6017 - accuracy: 0.7630\n",
      "Epoch 77/100\n",
      "3/3 [==============================] - 0s 5ms/step - loss: 0.6011 - accuracy: 0.7280\n",
      "Epoch 78/100\n",
      "3/3 [==============================] - 0s 5ms/step - loss: 0.5976 - accuracy: 0.7189\n",
      "Epoch 79/100\n",
      "3/3 [==============================] - 0s 5ms/step - loss: 0.5945 - accuracy: 0.7461\n",
      "Epoch 80/100\n",
      "3/3 [==============================] - 0s 6ms/step - loss: 0.5691 - accuracy: 0.7139\n",
      "Epoch 81/100\n",
      "3/3 [==============================] - 0s 5ms/step - loss: 0.5837 - accuracy: 0.7578\n",
      "Epoch 82/100\n",
      "3/3 [==============================] - 0s 5ms/step - loss: 0.5932 - accuracy: 0.7525\n",
      "Epoch 83/100\n",
      "3/3 [==============================] - 0s 5ms/step - loss: 0.5995 - accuracy: 0.7338\n",
      "Epoch 84/100\n",
      "3/3 [==============================] - 0s 5ms/step - loss: 0.5942 - accuracy: 0.7415\n",
      "Epoch 85/100\n",
      "3/3 [==============================] - 0s 6ms/step - loss: 0.5628 - accuracy: 0.7210\n",
      "Epoch 86/100\n",
      "3/3 [==============================] - 0s 6ms/step - loss: 0.5816 - accuracy: 0.7136\n",
      "Epoch 87/100\n",
      "3/3 [==============================] - 0s 6ms/step - loss: 0.5717 - accuracy: 0.7475\n",
      "Epoch 88/100\n",
      "3/3 [==============================] - 0s 5ms/step - loss: 0.5826 - accuracy: 0.7429\n",
      "Epoch 89/100\n",
      "3/3 [==============================] - 0s 5ms/step - loss: 0.5756 - accuracy: 0.7468\n",
      "Epoch 90/100\n",
      "3/3 [==============================] - 0s 5ms/step - loss: 0.5699 - accuracy: 0.7617\n",
      "Epoch 91/100\n",
      "3/3 [==============================] - 0s 6ms/step - loss: 0.5729 - accuracy: 0.7631\n",
      "Epoch 92/100\n",
      "3/3 [==============================] - 0s 6ms/step - loss: 0.5941 - accuracy: 0.7312\n",
      "Epoch 93/100\n",
      "3/3 [==============================] - 0s 6ms/step - loss: 0.5907 - accuracy: 0.7598\n",
      "Epoch 94/100\n",
      "3/3 [==============================] - 0s 6ms/step - loss: 0.5905 - accuracy: 0.7454\n",
      "Epoch 95/100\n",
      "3/3 [==============================] - 0s 6ms/step - loss: 0.5650 - accuracy: 0.7455\n",
      "Epoch 96/100\n",
      "3/3 [==============================] - 0s 6ms/step - loss: 0.5933 - accuracy: 0.7461\n",
      "Epoch 97/100\n",
      "3/3 [==============================] - 0s 5ms/step - loss: 0.5725 - accuracy: 0.7507\n",
      "Epoch 98/100\n",
      "3/3 [==============================] - 0s 5ms/step - loss: 0.5976 - accuracy: 0.7137\n",
      "Epoch 99/100\n",
      "3/3 [==============================] - 0s 6ms/step - loss: 0.6029 - accuracy: 0.7285\n",
      "Epoch 100/100\n",
      "3/3 [==============================] - 0s 5ms/step - loss: 0.6060 - accuracy: 0.7377\n"
     ]
    }
   ],
   "source": [
    "# Create an optimizer.\n",
    "opt = tensorflow.keras.optimizers.SGD(learning_rate=0.001, momentum=0.9)  \n",
    "#from tensorflow.keras.optimizers import Adam  \n",
    "\n",
    "\n",
    "model_DNN.compile(loss='binary_crossentropy', optimizer=opt, metrics=['accuracy'])   \n",
    "tr = model_DNN.fit(x_train, y_train, epochs=100, batch_size=64)"
   ]
  },
  {
   "cell_type": "code",
   "execution_count": 37,
   "id": "3f19b5ab",
   "metadata": {
    "execution": {
     "iopub.execute_input": "2021-10-06T23:17:10.726975Z",
     "iopub.status.busy": "2021-10-06T23:17:10.725573Z",
     "iopub.status.idle": "2021-10-06T23:17:11.009503Z",
     "shell.execute_reply": "2021-10-06T23:17:11.010441Z",
     "shell.execute_reply.started": "2021-10-06T23:15:21.415458Z"
    },
    "papermill": {
     "duration": 0.607093,
     "end_time": "2021-10-06T23:17:11.010734",
     "exception": false,
     "start_time": "2021-10-06T23:17:10.403641",
     "status": "completed"
    },
    "tags": []
   },
   "outputs": [
    {
     "name": "stdout",
     "output_type": "stream",
     "text": [
      "the accuracy of the model 79.48717948717949\n",
      "Confusion matrix : \n",
      " [[ 0  8]\n",
      " [ 0 31]]\n",
      "Outcome values : \n",
      " 0 8 0 31\n",
      "Classification report : \n",
      "               precision    recall  f1-score   support\n",
      "\n",
      "           0       0.00      0.00      0.00         8\n",
      "           1       0.79      1.00      0.89        31\n",
      "\n",
      "    accuracy                           0.79        39\n",
      "   macro avg       0.40      0.50      0.44        39\n",
      "weighted avg       0.63      0.79      0.70        39\n",
      "\n"
     ]
    }
   ],
   "source": [
    "pred_DNN = model_DNN.predict(x_test)\n",
    " \n",
    "# evaluate the model\n",
    "test_acc=accuracy_score(y_test,pred_DNN.round())*100\n",
    "print('the accuracy of the model',test_acc)\n",
    "\n",
    "c_matrix = confusion_matrix(y_test,pred_DNN.round())\n",
    "print('Confusion matrix : \\n',c_matrix)\n",
    "\n",
    "# outcome values order in sklearn\n",
    "tp, fn, fp, tn = confusion_matrix(y_test,pred_DNN.round()).reshape(-1)\n",
    "print('Outcome values : \\n', tp, fn, fp, tn)\n",
    "\n",
    "# classification report for precision, recall f1-score and accuracy\n",
    "cl_rep = classification_report(y_test,pred_DNN.round())\n",
    "print('Classification report : \\n',cl_rep)\n",
    "\n",
    " \n",
    " \n",
    " "
   ]
  },
  {
   "cell_type": "code",
   "execution_count": 38,
   "id": "dc82d90c",
   "metadata": {
    "execution": {
     "iopub.execute_input": "2021-10-06T23:17:11.460261Z",
     "iopub.status.busy": "2021-10-06T23:17:11.437156Z",
     "iopub.status.idle": "2021-10-06T23:17:11.746981Z",
     "shell.execute_reply": "2021-10-06T23:17:11.745424Z",
     "shell.execute_reply.started": "2021-10-06T23:15:21.614160Z"
    },
    "papermill": {
     "duration": 0.498147,
     "end_time": "2021-10-06T23:17:11.747161",
     "exception": false,
     "start_time": "2021-10-06T23:17:11.249014",
     "status": "completed"
    },
    "tags": []
   },
   "outputs": [
    {
     "data": {
      "image/png": "[encoded data removed]",
      "text/plain": [
       "<Figure size 432x288 with 2 Axes>"
      ]
     },
     "metadata": {
      "needs_background": "light"
     },
     "output_type": "display_data"
    }
   ],
   "source": [
    "# visualize with seaborn library\n",
    "sns.heatmap(c_matrix,annot=True,fmt=\"d\" ,cmap='Paired') \n",
    "plt.xlabel('predicted value')\n",
    "plt.ylabel('actual value')\n",
    "plt.show()\n",
    " "
   ]
  },
  {
   "cell_type": "code",
   "execution_count": 39,
   "id": "61d4a46d",
   "metadata": {
    "execution": {
     "iopub.execute_input": "2021-10-06T23:17:12.106574Z",
     "iopub.status.busy": "2021-10-06T23:17:12.105332Z",
     "iopub.status.idle": "2021-10-06T23:17:12.125314Z",
     "shell.execute_reply": "2021-10-06T23:17:12.126181Z",
     "shell.execute_reply.started": "2021-10-06T23:15:21.860936Z"
    },
    "papermill": {
     "duration": 0.204007,
     "end_time": "2021-10-06T23:17:12.126462",
     "exception": false,
     "start_time": "2021-10-06T23:17:11.922455",
     "status": "completed"
    },
    "tags": []
   },
   "outputs": [
    {
     "name": "stdout",
     "output_type": "stream",
     "text": [
      "Saved model to disk\n"
     ]
    }
   ],
   "source": [
    "model_DNN.save_weights(\"model_DNN.h5\")\n",
    "print(\"Saved model to disk\")"
   ]
  }
 ],
 "metadata": {
  "kernelspec": {
   "display_name": "Python 3",
   "language": "python",
   "name": "python3"
  },
  "language_info": {
   "codemirror_mode": {
    "name": "ipython",
    "version": 3
   },
   "file_extension": ".py",
   "mimetype": "text/x-python",
   "name": "python",
   "nbconvert_exporter": "python",
   "pygments_lexer": "ipython3",
   "version": "3.7.10"
  },
  "papermill": {
   "default_parameters": {},
   "duration": 58.036643,
   "end_time": "2021-10-06T23:17:15.602129",
   "environment_variables": {},
   "exception": null,
   "input_path": "__notebook__.ipynb",
   "output_path": "__notebook__.ipynb",
   "parameters": {},
   "start_time": "2021-10-06T23:16:17.565486",
   "version": "2.3.3"
  }
 },
 "nbformat": 4,
 "nbformat_minor": 5
}
